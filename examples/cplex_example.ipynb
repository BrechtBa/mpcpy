{
 "cells": [
  {
   "cell_type": "markdown",
   "metadata": {
    "collapsed": true
   },
   "source": [
    "# Cplex python API example\n",
    "The use of Cplex in python will here be explained by defining, solving and processing the output of an optimal control problem (OCP)."
   ]
  },
  {
   "cell_type": "markdown",
   "metadata": {},
   "source": [
    "To start using the Cplex python API first import it and import numpy for array handling and matplotlib for plotting"
   ]
  },
  {
   "cell_type": "code",
   "execution_count": 1,
   "metadata": {
    "collapsed": true
   },
   "outputs": [],
   "source": [
    "%matplotlib inline\n",
    "\n",
    "import numpy as np\n",
    "import matplotlib.pyplot as plt\n",
    "import cplex"
   ]
  },
  {
   "cell_type": "markdown",
   "metadata": {},
   "source": [
    "A new optimization problem can be created with:"
   ]
  },
  {
   "cell_type": "code",
   "execution_count": 2,
   "metadata": {
    "collapsed": true
   },
   "outputs": [],
   "source": [
    "ocp = cplex.Cplex()"
   ]
  },
  {
   "cell_type": "markdown",
   "metadata": {},
   "source": [
    "We will define some parameters to use in the example, the values are of no importance."
   ]
  },
  {
   "cell_type": "code",
   "execution_count": 3,
   "metadata": {
    "collapsed": false
   },
   "outputs": [],
   "source": [
    "# number of time points in the OCP\n",
    "N = 25\n",
    "dt = 3600.\n",
    "time = np.arange(N)*dt\n",
    "\n",
    "# prediction dictionary\n",
    "pre = {'T_in_min': 20*np.ones(N),\n",
    "       'T_em_max': 30*np.ones(N),\n",
    "       'T_amb': 5 + 5*np.sin(2*np.pi*(time/24/3600-0.6)),\n",
    "       'Q_flow_hp_max': 5000*np.ones(N),\n",
    "       'Q_flow_sol': np.clip(2000*np.sin(2*np.pi*(time/24/3600-0.4)),0,10000),\n",
    "       'p_el': np.clip( 0.18 + 0.10*np.sin(2*np.pi*(time/24/3600-0.0)),0,0.24 )}\n",
    "\n",
    "# parameter dictionary\n",
    "par = {'COP': 4,\n",
    "       'C_in': 10e6,\n",
    "       'C_em': 20e6,\n",
    "       'UA_in_amb': 200,\n",
    "       'UA_em_in': 1600}"
   ]
  },
  {
   "cell_type": "markdown",
   "metadata": {},
   "source": [
    "## Variables\n",
    "Variable must be added to the problem using the `cplex.variables.add` method. This method has several keyword arguments  all of which must all be a list of values.\n",
    "\n",
    "All supplied arguments must have equal length. Arguments are:\n",
    "- `names`: list of strings, variable names which can be used to reference the variable\n",
    "- `obj`: list of floats, coefficient of the linear objective function accompanying the variable\n",
    "- `lb`: list of floats, lower bounds of the variables, defaults to 0\n",
    "- `ub`: list of floats, upper bounds of the variables, defaults to 1e20\n",
    "- `type`: list of single character strings 'C','I','B' for continuous, integer and binary variables respectively.\n",
    "Cplex is suitable for solving Mixed Integer Programs.\n",
    "\n",
    "When defining an optimal control problem is is easy to use list comprehensions built into python together with string formatting to generate meaningful names for all variables.\n",
    "These names will then refer to the correct column in the constraint and objective matrices."
   ]
  },
  {
   "cell_type": "code",
   "execution_count": 4,
   "metadata": {
    "collapsed": false
   },
   "outputs": [],
   "source": [
    "ocp.variables.add(names = ['Q_flow_hp[{0}]'.format(i) for i in range(N)])\n",
    "ocp.variables.add(names = ['T_in[{0}]'.format(i) for i in range(N)])\n",
    "ocp.variables.add(names = ['T_em[{0}]'.format(i) for i in range(N)])"
   ]
  },
  {
   "cell_type": "markdown",
   "metadata": {},
   "source": [
    "Boundaries for the variables can be set during variable creation or using the methods `cplex.variable.set_lower_bounds` and `cplex.variable.set_upper_bounds`.\n",
    "These methods accept either a variable name/index, value pair or a list of variable name/index, value pair tuples. Again using list comprehensions makes everything easy.\n",
    "It is preferred to make few calls of a function with a larger set of variables than the other way around as this reduced overhead."
   ]
  },
  {
   "cell_type": "code",
   "execution_count": 5,
   "metadata": {
    "collapsed": false
   },
   "outputs": [],
   "source": [
    "ocp.variables.set_lower_bounds( 'T_in[0]',pre['T_in_min'][0] )\n",
    "# or\n",
    "ocp.variables.set_lower_bounds( [('T_in[{0}]'.format(i)     ,pre['T_in_min'][i]) for i in range(N)] )\n",
    "ocp.variables.set_upper_bounds( [('Q_flow_hp[{0}]'.format(i),pre['Q_flow_hp_max'][i]) for i in range(N)]\n",
    "                               +[('T_em[{0}]'.format(i)     ,pre['T_em_max'][i]) for i in range(N)] )"
   ]
  },
  {
   "cell_type": "markdown",
   "metadata": {},
   "source": [
    "For most \"set\" methods in cplex there is a corresponding \"get\" method which can be used to retrieve values."
   ]
  },
  {
   "cell_type": "markdown",
   "metadata": {},
   "source": [
    "## Objective\n",
    "The objective function can have linear and quadratic terms quadratic, cplex will select an appropriate solution method automatically.\n",
    "\n",
    "The linear terms in the objective function can be defined using `cplex.objective.set_linear`.\n",
    "This function accepts the same input argument format as the `cplex.variables.set_lower_bounds` method explained above."
   ]
  },
  {
   "cell_type": "code",
   "execution_count": 6,
   "metadata": {
    "collapsed": true
   },
   "outputs": [],
   "source": [
    "ocp.objective.set_linear( 'Q_flow_hp[0]', par['COP']*pre['p_el'][0]/1000*dt/3600 )\n",
    "# or\n",
    "ocp.objective.set_linear( [('Q_flow_hp[{0}]'.format(i), par['COP']*pre['p_el'][i]/1000*dt/3600) for i in range(N)] )"
   ]
  },
  {
   "cell_type": "markdown",
   "metadata": {},
   "source": [
    "Quadratic terms in the objective function are easiest to define with `cplex.objective.set_quadratic_coefficients`.\n",
    "Now 3 arguments or a list of tuples of 3 must be given containing two variables and the value. \n",
    "Of course care must be taken that the quadratic part remains positive semidefinite or the problem will become non-convex.\n",
    "In the example below a small cost is given to the square of some variables:"
   ]
  },
  {
   "cell_type": "code",
   "execution_count": 7,
   "metadata": {
    "collapsed": true
   },
   "outputs": [],
   "source": [
    "ocp.objective.set_quadratic_coefficients( [('Q_flow_hp[%s]'%(i),'Q_flow_hp[%s]'%(i),0.01*par['COP']*pre['p_el'][i]/1000*dt/3600) for i in range(N)] )"
   ]
  },
  {
   "cell_type": "markdown",
   "metadata": {},
   "source": [
    "## Constraints\n",
    "Both linear and quadratic constraints can be defined and reside in separate attributes."
   ]
  },
  {
   "cell_type": "markdown",
   "metadata": {},
   "source": [
    "Linear constraints can be added to the problem with `cplex.linear_constraints.add`.\n",
    "It accepts the following keyword arguments:\n",
    "- lin_expr: list of matrices in list of lists format or a list of cplex sparce pairs, expresses the lhs of the constraint\n",
    "- senses: list of single character strings which, expresses the sense of the constraint, 'G','L','E','R' for Greater, Lesser, Equal and Ranged respectively \n",
    "- rhs: list of floats, specifies the rhs of the constraints\n",
    "- range_values: list of floats specifying a range for the rhs if range_values[i] > 0 : rhs[i] <= a*x <= rhs[i]+range_values[i] else rhs[i]+range_values[i] <= a*x <= rhs[i]\n",
    "- names: a list of strings, names for the constraints"
   ]
  },
  {
   "cell_type": "markdown",
   "metadata": {},
   "source": [
    "A custom cplex type has come up, the `cplex.SparsePair`. This type assigns values to an index which is referred to.\n",
    "The example below can be used to assign values to the row of `T_in[0]` and `T_in[1]` in some constraint:"
   ]
  },
  {
   "cell_type": "code",
   "execution_count": 8,
   "metadata": {
    "collapsed": false
   },
   "outputs": [
    {
     "data": {
      "text/plain": [
       "SparsePair(ind = ['T_in[0]', 'T_in[1]'], val = [5.0, 6.5])"
      ]
     },
     "execution_count": 8,
     "metadata": {},
     "output_type": "execute_result"
    }
   ],
   "source": [
    "cplex.SparsePair(ind = ['T_in[0]', 'T_in[1]'], val = [5.0, 6.5])"
   ]
  },
  {
   "cell_type": "markdown",
   "metadata": {},
   "source": [
    "For the optimal control problem at hand the equations have to be discretized manually (leaving you the freedom to choose how to discretize).\n",
    "Again list comprehensions are useful when adding constraints to our problem:"
   ]
  },
  {
   "cell_type": "code",
   "execution_count": 9,
   "metadata": {
    "collapsed": false
   },
   "outputs": [],
   "source": [
    "# state constraints for T_in\n",
    "# C_in/dt*(T_in[i+1]-T_in[i]) = UA_in_amb*(T_amb[i]-T_in[i]) + UA_em_in*(T_em[i]-T_in[i]) + Q_flow_sol[i]\n",
    "\n",
    "\n",
    "ocp.linear_constraints.add( lin_expr = [ [['T_in[{0}]'.format(i)                           , 'T_in[{0}]'.format(i+1), 'T_em[{0}]'.format(i) ],\n",
    "                                          [-par['C_in']/dt+par['UA_in_amb']+par['UA_em_in'], par['C_in']/dt         , -par['UA_em_in']      ]] for i in range(N-1)],\n",
    "                            senses   = ['E' for i in range(N-1)],\n",
    "                            rhs      = [par['UA_in_amb']*pre['T_amb'][i] + pre['Q_flow_sol'][i] for i in range(N-1)],\n",
    "                            names    = ['state_T_in[{0}]'.format(i) for i in range(N-1)] )\n",
    "\n",
    "# or\n",
    "# state constraints for T_em\n",
    "# C_em/dt*(T_em[i+1]-T_em[i]) = UA_em_in*(T_in[i]-T_em[i]) + Q_flow_hp[i]\n",
    "ocp.linear_constraints.add( lin_expr = [ cplex.SparsePair( ind = ['T_em[{0}]'.format(i)          , 'T_em[{0}]'.format(i+1), 'T_in[{0}]'.format(i) , 'Q_flow_hp[{0}]'.format(i) ], \n",
    "                                                           val = [-par['C_em']/dt+par['UA_em_in'], par['C_em']/dt         , -par['UA_em_in']      , -1                         ]\n",
    "                                                          ) for i in range(N-1)],\n",
    "                            senses   = ['E' for i in range(N-1)],\n",
    "                            rhs      = [0 for i in range(N-1)],\n",
    "                            names    = ['state_T_em[{0}]'.format(i) for i in range(N-1)] )"
   ]
  },
  {
   "cell_type": "markdown",
   "metadata": {},
   "source": [
    "Our problem also needs initial values which are also equality constraints:"
   ]
  },
  {
   "cell_type": "code",
   "execution_count": 10,
   "metadata": {
    "collapsed": true
   },
   "outputs": [],
   "source": [
    "# add initial values\n",
    "ocp.linear_constraints.add(lin_expr = [[['T_in[0]'],\n",
    "                                        [1        ]]],\n",
    "                           senses   = 'E',\n",
    "                           rhs      = [21],\n",
    "                           names    = ['T_in_ini'])\n",
    "\n",
    "ocp.linear_constraints.add(lin_expr = [[['T_em[0]'],\n",
    "                                        [1        ]]],\n",
    "                           senses   = 'E',\n",
    "                           rhs      = [22],\n",
    "                           names    = ['T_em_ini'])"
   ]
  },
  {
   "cell_type": "markdown",
   "metadata": {},
   "source": [
    "When using the OCP in a model predictive control strategy it is common that the bounds and right hand side of constraints change.\n",
    "As this is only a small change in the large OCP it is appropriate to only change this part of the OCP reducing unnecessary computations.\n",
    "This can be done with the `cplex.linear_constraints.set_rhs` method.\n",
    "It accepts a list of tuples containing a constraint name/index and a value just like `cplex.variable.set_lower_bounds` and `cplex.objective.set_linear` :"
   ]
  },
  {
   "cell_type": "code",
   "execution_count": 11,
   "metadata": {
    "collapsed": true
   },
   "outputs": [],
   "source": [
    "ocp.linear_constraints.set_rhs( [('state_T_in[{0}]'.format(i),par['UA_in_amb']*pre['T_amb'][i] + pre['Q_flow_sol'][i]) for i in range(N-1)]  \n",
    "                               +[('state_T_em[{0}]'.format(i),0) for i in range(N-1)] )"
   ]
  },
  {
   "cell_type": "markdown",
   "metadata": {},
   "source": [
    "## Solving and retrieving the solution"
   ]
  },
  {
   "cell_type": "markdown",
   "metadata": {},
   "source": [
    "Solving is easy:"
   ]
  },
  {
   "cell_type": "code",
   "execution_count": 12,
   "metadata": {
    "collapsed": false
   },
   "outputs": [
    {
     "name": "stdout",
     "output_type": "stream",
     "text": [
      "Tried aggregator 1 time.\n",
      "QP Presolve eliminated 3 rows and 7 columns.\n",
      "Aggregator did 4 substitutions.\n",
      "Reduced QP has 43 rows, 64 columns, and 151 nonzeros.\n",
      "Reduced QP objective Q matrix has 23 nonzeros.\n",
      "Presolve time = 0.01 sec. (0.04 ticks)\n",
      "Parallel mode: using up to 4 threads for barrier.\n",
      "Number of nonzeros in lower triangle of A*A' = 103\n",
      "Using Approximate Minimum Degree ordering\n",
      "Total time for automatic ordering = 0.00 sec. (0.01 ticks)\n",
      "Summary statistics for Cholesky factor:\n",
      "  Threads                   = 4\n",
      "  Rows in Factor            = 43\n",
      "  Integer space required    = 47\n",
      "  Total non-zeros in factor = 386\n",
      "  Total FP ops to factor    = 4222\n",
      " Itn      Primal Obj        Dual Obj  Prim Inf Upper Inf  Dual Inf          \n",
      "   0  6.6832806e+005 -6.6726646e+005 1.02e+003 5.00e+002 1.19e+005\n",
      "   1  4.9425743e+004 -4.9333080e+004 2.73e+002 1.33e+002 3.18e+004\n",
      "   2  2.4922498e+004 -2.4288434e+004 1.75e+002 8.53e+001 2.04e+004\n",
      "   3  3.4887657e+003 -2.5924761e+003 4.62e+001 2.26e+001 5.39e+003\n",
      "   4  6.4690510e+002  4.4766797e+002 2.84e-012 1.27e-014 1.22e-012\n",
      "   5  6.1380738e+002  5.8336614e+002 9.86e-013 1.89e-014 7.18e-013\n",
      "   6  6.1005316e+002  6.0757829e+002 2.64e-012 1.28e-014 5.90e-013\n",
      "   7  6.0978130e+002  6.0974883e+002 6.24e-012 1.91e-014 7.12e-013\n",
      "   8  6.0977925e+002  6.0977886e+002 1.05e-011 1.90e-014 6.38e-013\n",
      "   9  6.0977923e+002  6.0977923e+002 4.43e-012 2.15e-014 5.35e-013\n",
      "Barrier time = 0.08 sec. (0.29 ticks)\n",
      "\n",
      "Total time on 4 threads = 0.09 sec. (0.29 ticks)\n"
     ]
    }
   ],
   "source": [
    "ocp.solve()"
   ]
  },
  {
   "cell_type": "markdown",
   "metadata": {},
   "source": [
    "cplex does the rest.\n",
    "\n",
    "You can suppress output if required with the following commands:"
   ]
  },
  {
   "cell_type": "code",
   "execution_count": 13,
   "metadata": {
    "collapsed": false
   },
   "outputs": [
    {
     "data": {
      "text/plain": [
       "<cplex._internal._ostream.OutputStream at 0x61ddcb0>"
      ]
     },
     "execution_count": 13,
     "metadata": {},
     "output_type": "execute_result"
    }
   ],
   "source": [
    "ocp.set_log_stream(None)\n",
    "ocp.set_error_stream(None)\n",
    "ocp.set_warning_stream(None)\n",
    "ocp.set_results_stream(None)"
   ]
  },
  {
   "cell_type": "markdown",
   "metadata": {},
   "source": [
    "Retrieving the solution is equally easy.\n",
    "Pay attention though that cplex returns regular lists, not numpy arrays, best to convert them immediately:"
   ]
  },
  {
   "cell_type": "code",
   "execution_count": 14,
   "metadata": {
    "collapsed": false
   },
   "outputs": [
    {
     "name": "stdout",
     "output_type": "stream",
     "text": [
      "[ 21.          20.63560269  20.66868564  20.65789637  20.58312991\n",
      "  20.4745934   20.35731675  20.24211609  20.13887337  20.05675946  20.          20.\n",
      "  20.          20.          20.03173812  20.11351282  20.22883109\n",
      "  20.35779649  20.47934991  20.56951709  20.60026288  20.54368185\n",
      "  20.38056326  20.1801851   20.        ]\n"
     ]
    }
   ],
   "source": [
    "sol = {}\n",
    "sol['Q_flow_hp'] = np.array(ocp.solution.get_values(['Q_flow_hp[{0}]'.format(i) for i in range(N)]))\n",
    "sol['T_in']      = np.array(ocp.solution.get_values(['T_in[{0}]'.format(i) for i in range(N)]))\n",
    "sol['T_em']     = np.array(ocp.solution.get_values(['T_em[{0}]'.format(i) for i in range(N)]))\n",
    "print(sol['T_in'])"
   ]
  },
  {
   "cell_type": "markdown",
   "metadata": {},
   "source": [
    "And finally we can plot the results of our optimal control problem"
   ]
  },
  {
   "cell_type": "code",
   "execution_count": 15,
   "metadata": {
    "collapsed": false
   },
   "outputs": [
    {
     "data": {
      "text/plain": [
       "<matplotlib.legend.Legend at 0x63875f0>"
      ]
     },
     "execution_count": 15,
     "metadata": {},
     "output_type": "execute_result"
    },
    {
     "data": {
      "image/png": "[encoded data removed]",
      "text/plain": [
       "<matplotlib.figure.Figure at 0x6212930>"
      ]
     },
     "metadata": {},
     "output_type": "display_data"
    }
   ],
   "source": [
    "fig,ax = plt.subplots(nrows=3,ncols=1,figsize=(10,8))\n",
    "ax[0].plot(time/3600,pre['p_el'],'k',label='p')\n",
    "ax[0].set_ylabel('$p$ (EUR/kWh)')\n",
    "\n",
    "ax[1].plot(time/3600,sol['Q_flow_hp']/1000.,'k',label='hp')\n",
    "ax[1].plot(time/3600,pre['Q_flow_sol']/1000.,'y',label='sol')\n",
    "ax[1].set_ylabel('$\\dot{Q}$ (kW)')\n",
    "ax[1].legend(loc='upper right')\n",
    "\n",
    "ax[2].plot(time/3600,sol['T_in'],'k',label='in')\n",
    "ax[2].plot(time/3600,sol['T_em'],'r',label='em')\n",
    "ax[2].plot(time/3600,pre['T_amb'],'b',label='amb')\n",
    "ax[2].set_ylabel('$T$ ($^\\circ$C)')\n",
    "ax[2].set_xlabel('time (h)')\n",
    "ax[2].legend(loc='lower right')"
   ]
  },
  {
   "cell_type": "code",
   "execution_count": null,
   "metadata": {
    "collapsed": true
   },
   "outputs": [],
   "source": []
  }
 ],
 "metadata": {
  "kernelspec": {
   "display_name": "Python 2",
   "language": "python",
   "name": "python2"
  },
  "language_info": {
   "codemirror_mode": {
    "name": "ipython",
    "version": 2
   },
   "file_extension": ".py",
   "mimetype": "text/x-python",
   "name": "python",
   "nbconvert_exporter": "python",
   "pygments_lexer": "ipython2",
   "version": "2.7.10"
  }
 },
 "nbformat": 4,
 "nbformat_minor": 0
}
