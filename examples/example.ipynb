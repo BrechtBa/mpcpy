{
 "cells": [
  {
   "cell_type": "code",
   "execution_count": 1,
   "metadata": {
    "collapsed": true
   },
   "outputs": [],
   "source": [
    "import numpy as np\n",
    "import mpcpy"
   ]
  },
  {
   "cell_type": "code",
   "execution_count": 2,
   "metadata": {
    "collapsed": false
   },
   "outputs": [
    {
     "name": "stdout",
     "output_type": "stream",
     "text": [
      "{'p_el': 0.20647047612756303, 'Q_flow_hp_max': 5000.0, 'Q_flow_sol': 564.7047612756302, 'T_em_max': 303.15, 'time': 1800.0, 'T_amb': 278.4088190451025, 'T_in_min': 293.15}\n",
      "{'p_el': 0.20647047612756303, 'Q_flow_hp_max': 5000.0, 'Q_flow_sol': 564.7047612756303, 'T_em_max': 303.15, 'time': 88200.0, 'T_amb': 278.4088190451025, 'T_in_min': 293.15}\n"
     ]
    }
   ],
   "source": [
    "time = np.arange(0.,24.01*3600.,3600.)\n",
    "bcs = {'time': time,\n",
    "       'T_amb': 5 + 2*np.sin(2*np.pi*time/24./3600.)+273.15,\n",
    "       'Q_flow_sol': 500 + 500*np.sin(2*np.pi*time/24./3600.),\n",
    "       'p_el': 0.2 + 0.05*np.sin(2*np.pi*time/24./3600.),\n",
    "       'Q_flow_hp_max': 5000*np.ones_like(time),\n",
    "       'T_in_min': 20*np.ones_like(time)+273.15,\n",
    "       'T_em_max': 30*np.ones_like(time)+273.15}\n",
    "boundaryconditions = mpcpy.Boundaryconditions(bcs)\n",
    "print( boundaryconditions(1800) )\n",
    "print( boundaryconditions(24.5*3600) )"
   ]
  },
  {
   "cell_type": "code",
   "execution_count": 3,
   "metadata": {
    "collapsed": false
   },
   "outputs": [],
   "source": [
    "import dympy\n",
    "\n",
    "dymola = dympy.Dymola()\n",
    "dymola.clear()\n",
    "dymola.openModel('example.mo')\n",
    "dymola.compile('example')"
   ]
  },
  {
   "cell_type": "code",
   "execution_count": 4,
   "metadata": {
    "collapsed": false
   },
   "outputs": [
    {
     "name": "stdout",
     "output_type": "stream",
     "text": [
      "[    0.  3600.  7200.]\n",
      "[ 294.15008545  293.51867676  293.57620239]\n"
     ]
    }
   ],
   "source": [
    "emulator = mpcpy.Emulator(dymola,['T_amb','Q_flow_sol','Q_flow_hp'])\n",
    "inp = {'time': [0., 3600., 7200.], 'T_amb': [273.15, 274.15, 275.15], 'Q_flow_sol': [500., 400., 300.], 'Q_flow_hp': [4000., 4000., 4000.]}\n",
    "emulator_parameters = {'C_em.C': 10e6, 'C_in.C': 5e6, 'UA_in_amb.G': 200, 'UA_em_in.G': 1600}\n",
    "emulator.set_parameters(emulator_parameters)\n",
    "\n",
    "emulator_initialconditions = {'C_em.T': 22+273.15, 'C_in.T': 21+273.15}\n",
    "emulator.set_initial_conditions(emulator_initialconditions)\n",
    "\n",
    "emulator.initialize()\n",
    "emulator(inp)\n",
    "\n",
    "print( emulator.res['time'] )\n",
    "print( emulator.res['C_in.T'] )"
   ]
  },
  {
   "cell_type": "code",
   "execution_count": 5,
   "metadata": {
    "collapsed": false
   },
   "outputs": [
    {
     "name": "stdout",
     "output_type": "stream",
     "text": [
      "{'T_in': 293.57620239257812, 'T_em': 295.7989501953125}\n"
     ]
    }
   ],
   "source": [
    "class Stateestimation_perfect(mpcpy.Stateestimation):\n",
    "    # redefine the stateestimation method\n",
    "    def stateestimation(self,time):\n",
    "        state = {}\n",
    "        state['T_in'] = self.emulator.res['C_in.T'][-1]\n",
    "        state['T_em'] = self.emulator.res['C_em.T'][-1]\n",
    "        return state\n",
    "\n",
    "stateestimation = Stateestimation_perfect(emulator)\n",
    "print( stateestimation(0) )"
   ]
  },
  {
   "cell_type": "code",
   "execution_count": 6,
   "metadata": {
    "collapsed": false
   },
   "outputs": [
    {
     "name": "stdout",
     "output_type": "stream",
     "text": [
      "{'p_el': array([ 0.2       ,  0.20647048,  0.21294095]), 'Q_flow_hp_max': array([ 5000.,  5000.,  5000.]), 'Q_flow_sol': array([ 500.        ,  564.70476128,  629.40952255]), 'T_em_max': array([ 303.15,  303.15,  303.15]), 'time': array([    0.,  1800.,  3600.]), 'T_amb': array([ 278.15      ,  278.40881905,  278.66763809]), 'T_in_min': array([ 293.15,  293.15,  293.15])}\n"
     ]
    }
   ],
   "source": [
    "prediction = mpcpy.Prediction(boundaryconditions)\n",
    "print( prediction([0.,1800.,3600.]) )"
   ]
  },
  {
   "cell_type": "code",
   "execution_count": 7,
   "metadata": {
    "collapsed": false
   },
   "outputs": [
    {
     "name": "stdout",
     "output_type": "stream",
     "text": [
      "0\n",
      "{'Q_flow_hp': [5000.0, 999.3126333371038, 0.0, 0.0, 218.44463971606456, 1577.4258599164896, 1653.2408964233473, 1786.76116650342, 1968.887484403327, 2187.2082425359986, 2426.8452420273097, 2671.467617380433, 2904.4047579726903, 3109.782382619567, 3273.604345604079, 3384.7064508771873, 3435.517273569538, 3422.574140083452, 3346.759103576769, 3213.2388334967545, 5000.0, 2560.774159460445, 1019.5922750795144, 0.0, 0.0], 'time': array([     0.,   3600.,   7200.,  10800.,  14400.,  18000.,  21600.,\n",
      "        25200.,  28800.,  32400.,  36000.,  39600.,  43200.,  46800.,\n",
      "        50400.,  54000.,  57600.,  61200.,  64800.,  68400.,  72000.,\n",
      "        75600.,  79200.,  82800.,  86400.])}\n"
     ]
    }
   ],
   "source": [
    "import cplex\n",
    "class Linearprogram(mpcpy.Control):\n",
    "    def formulation(self):\n",
    "        # define temporary times, state estimations and prediction to use while defining the problem\n",
    "        time = self.time(0)\n",
    "        dt = time[1]-time[0]\n",
    "        N = len(time)\n",
    "        sta = self.stateestimation(time[0])\n",
    "        pre = self.prediction(time)\n",
    "        par = self.parameters\n",
    "\n",
    "        ocp = cplex.Cplex()\n",
    "\n",
    "        # shorthand for 1\n",
    "        ones = np.ones(N)\n",
    "\n",
    "        # add variables, don't wory about bounds yet as they will be set in the solution function\n",
    "        ocp.variables.add(obj = 0*ones, lb = 0*ones, ub = 1e6*ones, names = ['Q_flow_hp[%s]'%(i) for i in range(N)])\n",
    "        ocp.variables.add(obj = 0*ones, lb = 0*ones, ub = 1e6*ones, names = ['T_in[%s]'%(i) for i in range(N)])\n",
    "        ocp.variables.add(obj = 0*ones, lb = 0*ones, ub = 1e6*ones, names = ['T_em[%s]'%(i) for i in range(N)])\n",
    "\n",
    "        # add state constraints\n",
    "        for i in range(N-1):\n",
    "            # T_in\n",
    "            # C_in/dt*(T_in[i+1]-T_in[i]) = UA_in_amb*(T_amb[i]-T_in[i]) + UA_em_in*(T_em[i]-T_in[i]) + Q_flow_sol[i]\n",
    "            ocp.linear_constraints.add(\n",
    "                    lin_expr = [[['T_in[%s]'%(i)                                   , 'T_in[%s]'%(i+1) , 'T_em[%s]'%(i)    ],\n",
    "                                 [-par['C_in']/dt+par['UA_in_amb']+par['UA_em_in'] , par['C_in']/dt   , -par['UA_em_in']  ]]],\n",
    "                    senses = 'E',\n",
    "                    rhs = [par['UA_in_amb']*pre['T_amb'][i] + pre['Q_flow_sol'][i] ],\n",
    "                    names = ['state_T_in[%s]'%(i)])\n",
    "\n",
    "\n",
    "            # T_em\n",
    "            # C_em/dt*(T_em[i+1]-T_em[i]) = UA_em_in*(T_in[i]-T_em[i]) + Q_flow_hp[i]\n",
    "            ocp.linear_constraints.add(\n",
    "                    lin_expr = [[['T_em[%s]'%(i)                  , 'T_em[%s]'%(i+1) , 'T_in[%s]'%(i)    , 'Q_flow_hp[%s]'%(i) ],\n",
    "                                 [-par['C_em']/dt+par['UA_em_in'] ,  par['C_em']/dt  , -par['UA_em_in']  , -1                  ]]],\n",
    "                    senses = 'E',\n",
    "                    rhs = [0],\n",
    "                    names = ['state_T_em[%s]'%(i)])\n",
    "\n",
    "        # add initial values\n",
    "        ocp.linear_constraints.add(lin_expr = [[['T_in[0]',   ],\n",
    "                                                 [1]]],\n",
    "                                   senses = 'E',\n",
    "                                   rhs = [sta['T_in'].item()],\n",
    "                                   names = ['T_in_ini'])\n",
    "\n",
    "        ocp.linear_constraints.add(lin_expr = [[['T_em[0]',   ],\n",
    "                                                 [1]]],\n",
    "                                   senses = 'E',\n",
    "                                   rhs = [sta['T_em'].item()],\n",
    "                                   names = ['T_em_ini'])\n",
    "            \n",
    "            \n",
    "        # disable output printing\n",
    "        ocp.set_log_stream(None)\n",
    "        #ocp.set_error_stream(None)\n",
    "        ocp.set_warning_stream(None)\n",
    "        ocp.set_results_stream(None)\n",
    "\n",
    "        self.ocp = ocp\n",
    "        \n",
    "        def solution(sta,pre):\n",
    "            # define the cost function\n",
    "            ocp.objective.set_linear( [('Q_flow_hp[%s]'%(i),par['COP']*pre['p_el'][i]/1000*dt/3600) for i in range(N)] )\n",
    "\n",
    "            # hard bounds\n",
    "            ocp.variables.set_lower_bounds( [('T_in[%s]'%(i)     ,pre['T_in_min'][i]) for i in range(N)])\n",
    "            ocp.variables.set_upper_bounds( [('Q_flow_hp[%s]'%(i),pre['Q_flow_hp_max'][i]) for i in range(N)]\n",
    "                                           +[('T_em[%s]'%(i)     ,pre['T_em_max'][i]) for i in range(N)])\n",
    "            \n",
    "            \n",
    "            # state constraints\n",
    "            ocp.linear_constraints.set_rhs( [('state_T_in[%s]'%(i),par['UA_in_amb']*pre['T_amb'][i] + pre['Q_flow_sol'][i]) for i in range(N-1)]\n",
    "                                           +[('state_T_em[%s]'%(i),0) for i in range(N-1)] )\n",
    "\n",
    "            # initial conditions\n",
    "            ocp.linear_constraints.set_rhs( [('T_in_ini',sta['T_in'].item())]\n",
    "                                           +[('T_em_ini',sta['T_em'].item())] )\n",
    "            \n",
    "            # solve the optimal control problem\n",
    "            ocp.solve()\n",
    "\n",
    "            # add a properties with the ocp problem with the solution for inspection\n",
    "            self.ocp = ocp\n",
    "\n",
    "            # return the contol inputs\n",
    "            sol = {}\n",
    "            sol['time'] = pre['time']\n",
    "            sol['Q_flow_hp'] = ocp.solution.get_values(['Q_flow_hp[%s]'%(i) for i in range(N)])\n",
    "\n",
    "            return sol\n",
    "\n",
    "        return solution\n",
    "\n",
    "\n",
    "control_parameters = {'C_in': emulator_parameters['C_in.C'],\n",
    "                      'C_em': emulator_parameters['C_em.C'],\n",
    "                      'UA_in_amb': emulator_parameters['UA_in_amb.G'],\n",
    "                      'UA_em_in': emulator_parameters['UA_em_in.G'],\n",
    "                      'COP': 4}\n",
    "control = Linearprogram(stateestimation,prediction,parameters=control_parameters,horizon=24*3600.,timestep=3600.,receding=3600.)\n",
    "\n",
    "print( control.ocp.solution.get_status() )\n",
    "print( control(0) )"
   ]
  },
  {
   "cell_type": "code",
   "execution_count": 8,
   "metadata": {
    "collapsed": false
   },
   "outputs": [
    {
     "name": "stdout",
     "output_type": "stream",
     "text": [
      "Run MPC                                                                        |\n",
      "--------------------------------------------------------------------------------  done\n",
      "[ 4549.58984375  4233.67577054  3917.76147461  3601.84716797  3285.93290418\n",
      "  2970.01851184  2008.07348633  1673.39457194  1338.71565755  1004.03674316\n",
      "   669.35782878   334.67892456    24.52283287   101.03502909   177.54718444\n",
      "   254.05943298   330.57165609   407.08378011   563.29986572   663.09927696\n",
      "   762.89852577   862.69793701   962.49732791  1062.29653602  1004.52294922\n",
      "  1065.93598709  1127.34892502  1188.76196289  1250.17500814  1311.58809408\n",
      "  1274.8984375   1317.34517415  1359.79187012  1402.23864746  1444.6854248\n",
      "  1487.13212077  1478.22753906  1515.42944336  1552.63134766  1589.83337402\n",
      "  1627.03527832  1664.23718262  1675.1541748   1713.29085286  1751.42765299\n",
      "  1789.56433105  1827.70113118  1865.83780924  1890.53625488  1931.35493978\n",
      "  1972.17366536  2012.99243164  2053.81103516  2094.62988281  2128.67553711\n",
      "  2171.55296686  2214.43059438  2257.30786133  2300.18529108  2343.0629186\n",
      "  2382.79833984  2425.91087648  2469.02361249  2512.13598633  2555.24852297\n",
      "  2598.36109617  2640.37036133  2681.28759024  2722.2048414   2763.12207031\n",
      "  2804.03905508  2844.95655039  2886.05786133  2922.26066363  2958.4637016\n",
      "  2994.66650391  3030.86938755  3067.07250698  3104.31811523  3133.4683612\n",
      "  3162.61904114  3191.76928711  3220.91977722  3250.07029435  3280.87939453\n",
      "  3301.05301614  3321.22676902  3341.40039062  3361.57401223  3381.74768378\n",
      "  3403.87353516  3413.73524877  3423.59727076  3433.45898438  3443.32069799\n",
      "  3453.18255718  3465.22119141  3464.10123941  3462.98136146  3461.86157227\n",
      "  3460.74162027  3459.62190512  3460.67016602  3717.22462222  3973.78074887\n",
      "  4230.33496094  4486.88941715  4743.44554379  5000.          5000.          5000.\n",
      "  5000.          5000.          5000.          5000.          5000.          5000.\n",
      "  5000.          5000.          5000.          5000.          5000.          5000.\n",
      "  5000.          5000.          5000.          5000.          5000.          5000.\n",
      "  5000.          5000.          5000.          5000.          5000.          5000.\n",
      "  5000.          5000.          5000.          5000.          4180.39746094\n",
      "  3360.79500326  2541.19238281  1721.59000651   901.98746745    82.38495636]\n"
     ]
    }
   ],
   "source": [
    "mpc = mpcpy.MPC(emulator,control,boundaryconditions,emulationtime=1*24*3600.,resulttimestep=600)\n",
    "res = mpc()\n",
    "print(res['Q_flow_hp'])"
   ]
  },
  {
   "cell_type": "code",
   "execution_count": 9,
   "metadata": {
    "collapsed": false
   },
   "outputs": [
    {
     "data": {
      "text/plain": [
       "<matplotlib.legend.Legend at 0x5a814b0>"
      ]
     },
     "execution_count": 9,
     "metadata": {},
     "output_type": "execute_result"
    },
    {
     "data": {
      "image/png": "[encoded data removed]",
      "text/plain": [
       "<matplotlib.figure.Figure at 0x568a2b0>"
      ]
     },
     "metadata": {},
     "output_type": "display_data"
    }
   ],
   "source": [
    "%matplotlib inline\n",
    "import matplotlib.pyplot as plt\n",
    "\n",
    "plt.figure(figsize=(10,8))\n",
    "ax = plt.subplot(211)\n",
    "ax.plot(res['time']/3600,res['Q_flow_hp'],'k',label='hp')\n",
    "ax.plot(res['time']/3600,res['Q_flow_sol'],'g',label='sol')\n",
    "ax.set_ylabel('$\\dot{Q}$ (W)')\n",
    "plt.legend()\n",
    "\n",
    "ax = plt.subplot(212)\n",
    "ax.plot(res['time']/3600,res['C_in.T']-273.17,'k',label='in')\n",
    "ax.plot(res['time']/3600,res['C_em.T']-273.17,'b',label='em')\n",
    "ax.plot(res['time']/3600,res['T_amb']-273.17,'g',label='amb')\n",
    "ax.set_ylabel('$T$ ($^\\circ$C)')\n",
    "ax.set_xlabel('time (h)')\n",
    "plt.legend()"
   ]
  }
 ],
 "metadata": {
  "kernelspec": {
   "display_name": "Python 2",
   "language": "python",
   "name": "python2"
  },
  "language_info": {
   "codemirror_mode": {
    "name": "ipython",
    "version": 2
   },
   "file_extension": ".py",
   "mimetype": "text/x-python",
   "name": "python",
   "nbconvert_exporter": "python",
   "pygments_lexer": "ipython2",
   "version": "2.7.10"
  }
 },
 "nbformat": 4,
 "nbformat_minor": 0
}
