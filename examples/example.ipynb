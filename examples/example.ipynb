{
 "cells": [
  {
   "cell_type": "markdown",
   "metadata": {
    "collapsed": true
   },
   "source": [
    "# mpcpy Workflow\n",
    "\n",
    "In a model predictive control simulation we need several components. At first we need an emulator to replace the real world system in our computational environment. The system is subjected to certain boundary conditions which may vary. Next we need a controller which will determine the inputs we must supply to the emulated system so it moves in the wanted direction. As we are considering MPC the controller will consist of a state estimation, a prediction and an optimization\n",
    "\n",
    "For each of these components base classes are included in mpcpy. Some of these classes can be used out off the box, others require child class creation which will be explained below.\n",
    "\n",
    "before we start import numpy, matplotlib, pyomo which will be used for the optimization and mpcpy"
   ]
  },
  {
   "cell_type": "code",
   "execution_count": 1,
   "metadata": {
    "collapsed": true
   },
   "outputs": [],
   "source": [
    "%matplotlib inline\n",
    "\n",
    "import numpy as np\n",
    "import matplotlib.pyplot as plt\n",
    "import pyomo.environ as pyomo\n",
    "\n",
    "import mpcpy"
   ]
  },
  {
   "cell_type": "markdown",
   "metadata": {},
   "source": [
    "## Boundary conditions\n",
    "\n",
    "As all systems are subject to some boundary conditions a Boundaryconditions class is constructed.\n",
    "This class main purpose is to handle the interpolation of boundary conditions to the correct times (also for predictions which may lay outside of the emulation interval).\n",
    "By default it assumes periodic boundary conditions but this can be altered to maintaining the first or last entry when time flows outside of the defined range by setting `periodic=False` as an argument on creation."
   ]
  },
  {
   "cell_type": "markdown",
   "metadata": {},
   "source": [
    "#### Example:"
   ]
  },
  {
   "cell_type": "code",
   "execution_count": 2,
   "metadata": {
    "collapsed": false
   },
   "outputs": [
    {
     "name": "stdout",
     "output_type": "stream",
     "text": [
      "{'Q_flow_hp_max': 5000.0, 'p_el': 0.20647047612756303, 'T_am': 278.4088190451025, 'T_em_max': 303.15, 'time': 1800.0, 'Q_flow_so': 564.7047612756302, 'T_in_min': 293.15}\n",
      "{'Q_flow_hp_max': 5000.0, 'p_el': 0.20000000000000004, 'T_am': 278.15, 'T_em_max': 303.15, 'time': 88200.0, 'Q_flow_so': 500.00000000000034, 'T_in_min': 293.15}\n"
     ]
    }
   ],
   "source": [
    "time = np.arange(0.,24.01*3600.,3600.)\n",
    "bcs = {\n",
    "    'time': time,\n",
    "    'T_am': 5 + 2*np.sin(2*np.pi*time/24./3600.)+273.15,\n",
    "    'Q_flow_so': 500 + 500*np.sin(2*np.pi*time/24./3600.),\n",
    "    'p_el': 0.2 + 0.05*np.sin(2*np.pi*time/24./3600.),\n",
    "    'Q_flow_hp_max': 5000*np.ones_like(time),\n",
    "    'T_in_min': 20*np.ones_like(time)+273.15,\n",
    "    'T_em_max': 30*np.ones_like(time)+273.15\n",
    "}\n",
    "\n",
    "boundaryconditions = mpcpy.Boundaryconditions(bcs,periodic=False)\n",
    "\n",
    "# test\n",
    "print( boundaryconditions(1800) ) \n",
    "print( boundaryconditions(24.5*3600) )  # extrapolation"
   ]
  },
  {
   "cell_type": "markdown",
   "metadata": {},
   "source": [
    "## Emulator\n",
    "\n",
    "The emulator class creates objects used to emulate the system.\n",
    "By default the values returned from the control optimization are retained.\n",
    "A [dympy](https://github.com/brechtba/dympy) Dymola connector is also available to do the simulation work or the class can be adapted, in a subclass, to use other simulation tools.\n",
    "When creating an object the inputs the model uses need to be specified as a list of strings. These inputs can be controlled inputs or disturbances.\n",
    "\n",
    "The object must have a `res` property where the results of the entire emulation are stored. This property is later used to output the results to the mpcpy object.\n",
    "\n",
    "Model parameters can be defined using the `set_parameters` method which accepts a dictionary with name, value pairs as argument. \n",
    "Initial conditions can be defined using the `set_initial_conditions` method which accepts a dictionary with name, value pairs as argument.\n",
    "\n",
    "Each model must be initialized before a simulation or mpc run using the `initialize`.\n",
    "The initialization sets all parameter values and initial conditions and runs the simulation for a short period to get initial values for all variables in the `res` dictionary.\n",
    "This way rewriting all parameters before every emulation is avoided which results in considerable speed gains.\n",
    "\n",
    "The most important method in the emulator class it the `__call__` method.\n",
    "This method should accepts an input dictionary with inputs to the emulator as only argument and append the results to it's `res` property."
   ]
  },
  {
   "cell_type": "markdown",
   "metadata": {},
   "source": [
    "#### Example:\n",
    "\n",
    "Let's create a simple simulation model using a fixed timestep forward integration method.\n",
    "The only thing we have to do is to redefine the simulate method:"
   ]
  },
  {
   "cell_type": "code",
   "execution_count": 3,
   "metadata": {
    "collapsed": false
   },
   "outputs": [],
   "source": [
    "class Emulator(mpcpy.Emulator):\n",
    "    \"\"\"\n",
    "    A custom system emulator\n",
    "    \"\"\"\n",
    "    def simulate(self,starttime,stoptime,input):\n",
    "        dt = 60\n",
    "        time = np.arange(starttime,stoptime+dt,dt,dtype=np.float)\n",
    "\n",
    "        # initialize\n",
    "        T_em = np.ones_like(time)*self.res['T_em'][-1]\n",
    "        T_in = np.ones_like(time)*self.res['T_in'][-1]\n",
    "        \n",
    "        # interpolate inputs\n",
    "        Q_flow_hp = np.interp(time,input['time'],input['Q_flow_hp'])\n",
    "        Q_flow_so = np.interp(time,input['time'],input['Q_flow_so'])\n",
    "        T_am      = np.interp(time,input['time'],input['T_am'])\n",
    "        \n",
    "        for i,t in enumerate(time[:-1]):\n",
    "            # C_em dT_em/dt = Q_flow_hp - UA_em_in*(T_em-T_in)\n",
    "            T_em[i+1] = T_em[i] + ( Q_flow_hp[i] - self.parameters['UA_em_in']*(T_em[i]-T_in[i]) )*dt/self.parameters['C_em']\n",
    "        \n",
    "            # C_in dT_in/dt = Q_flow_so - UA_em_in*(T_in-T_em) - UA_in_am*(T_in-T_am)\n",
    "            T_in[i+1] = T_in[i] + ( Q_flow_so[i] - self.parameters['UA_em_in']*(T_in[i]-T_em[i]) -+ self.parameters['UA_in_am']*(T_in[i]-T_am[i]) )*dt/self.parameters['C_em']\n",
    "            \n",
    "            \n",
    "        # create and return a results dict    \n",
    "        res = {\n",
    "            'time': time,\n",
    "            'Q_flow_hp':Q_flow_hp,\n",
    "            'Q_flow_so':Q_flow_so,\n",
    "            'T_em':T_em,\n",
    "            'T_in':T_in,\n",
    "            'T_am':T_am,\n",
    "        }\n",
    "        \n",
    "        return res"
   ]
  },
  {
   "cell_type": "markdown",
   "metadata": {},
   "source": [
    "Now we create an instance of this emulator and set parameters and initial conditions:"
   ]
  },
  {
   "cell_type": "code",
   "execution_count": 4,
   "metadata": {
    "collapsed": false
   },
   "outputs": [
    {
     "name": "stdout",
     "output_type": "stream",
     "text": [
      "[    0.  1200.  2400.  3600.  4800.  6000.  7200.]\n",
      "[ 295.15        295.39422931  295.56712793  295.69275797  295.78723691\n",
      "  295.86135873  295.92235032]\n"
     ]
    }
   ],
   "source": [
    "emulator = Emulator(['T_am','Q_flow_so','Q_flow_hp'])\n",
    "\n",
    "emulator_parameters = {\n",
    "    'C_em': 10e6, \n",
    "    'C_in': 5e6, \n",
    "    'UA_in_am': 200, \n",
    "    'UA_em_in': 1600\n",
    "}\n",
    "emulator.set_parameters(emulator_parameters)\n",
    "\n",
    "\n",
    "emulator_initialconditions = {\n",
    "    'T_em': 22+273.15,\n",
    "    'T_in': 21+273.15\n",
    "}\n",
    "emulator.set_initial_conditions(emulator_initialconditions)\n",
    "\n",
    "emulator.initialize()\n",
    "\n",
    "# test\n",
    "# some input signals for testing\n",
    "inp = {\n",
    "    'time': [0., 3600., 7200.], \n",
    "    'T_am': [273.15, 274.15, 275.15], \n",
    "    'Q_flow_so': [500., 400., 300.], \n",
    "    'Q_flow_hp': [4000., 4000., 4000.]\n",
    "}\n",
    "\n",
    "emulator(np.arange(0.,7201.,1200.),inp)\n",
    "\n",
    "print( emulator.res['time'] )\n",
    "print( emulator.res['T_em'] )"
   ]
  },
  {
   "cell_type": "markdown",
   "metadata": {},
   "source": [
    "## Control\n",
    "\n",
    "The control algorithm is MPC by default as this is the goal of the project, but it could be modified to use other control techniques at discrete time intervals.\n",
    "An MPC consists of a state estimation, a prediction and a control optimization which will be explained below.\n",
    "\n",
    "The basic principle of MPC is that a model suitable for optimization (for instance a linear or quadratic program or a smooth non-convex model) which represents the system behavior is constructed.\n",
    "Each time step the states of the optimization model are estimated based on measurements or the emulation model in our case.\n",
    "A prediction is made for the disturbances over a certain time period (the control horizon).\n",
    "The model is optimized with respect to the control signals given the predictions and certain constraints and the first sample of the control signals are implemented in the emulator.\n",
    "The system hopefully evolves in the desired direction and the next time step everything starts over.\n",
    "\n",
    "- refs on mpc"
   ]
  },
  {
   "cell_type": "markdown",
   "metadata": {},
   "source": [
    "### State estimation\n",
    "We start by defining a state estimation object. A base class is supplied in mpcpy but due to the specific nature of every model this has to be extended for every MPC.\n",
    "\n",
    "During creation the estimation object has to be given an emulator object which contains the results from which the states can be estimated.\n",
    "The implemented `__call__` method take one argument, time, and simply passes this to the `stateestimation` method and returns the result.\n",
    "\n",
    "The intention is that the `stateestimation` method can be modified in a child class without affecting the overall object behavior and multiple state estimation objects can be created and used."
   ]
  },
  {
   "cell_type": "markdown",
   "metadata": {},
   "source": [
    "#### Example:"
   ]
  },
  {
   "cell_type": "code",
   "execution_count": 5,
   "metadata": {
    "collapsed": false
   },
   "outputs": [
    {
     "name": "stdout",
     "output_type": "stream",
     "text": [
      "{'T_in': 294.15, 'T_em': 295.15}\n"
     ]
    }
   ],
   "source": [
    "class Stateestimation_perfect(mpcpy.Stateestimation):\n",
    "    \"\"\"\n",
    "    Custom state estimation method\n",
    "    \"\"\" \n",
    "    def stateestimation(self,time):\n",
    "        state = {}\n",
    "        state['T_in'] = np.interp(time,self.emulator.res['time'],self.emulator.res['T_in'])\n",
    "        state['T_em'] = np.interp(time,self.emulator.res['time'],self.emulator.res['T_em'])\n",
    "        \n",
    "        return state\n",
    "\n",
    "stateestimation = Stateestimation_perfect(emulator)\n",
    "\n",
    "# test\n",
    "print( stateestimation(0) )"
   ]
  },
  {
   "cell_type": "markdown",
   "metadata": {},
   "source": [
    "### Prediction\n",
    "The `Prediction` class is used to generate predictions from the boundary conditions over a certain time period.\n",
    "\n",
    "On creation it takes a `boundaryconditions` object as argument.\n",
    "It follows the same structure as the `Stateestimation` class but is predefined with a perfect prediction method.\n",
    "\n",
    "This can of course be redefined to more realistic or stochastic prediction models."
   ]
  },
  {
   "cell_type": "markdown",
   "metadata": {},
   "source": [
    "#### Example:"
   ]
  },
  {
   "cell_type": "code",
   "execution_count": 6,
   "metadata": {
    "collapsed": false
   },
   "outputs": [
    {
     "name": "stdout",
     "output_type": "stream",
     "text": [
      "{'Q_flow_hp_max': array([ 5000.,  5000.,  5000.]), 'p_el': array([ 0.2       ,  0.20647048,  0.21294095]), 'T_am': array([ 278.15      ,  278.40881905,  278.66763809]), 'T_em_max': array([ 303.15,  303.15,  303.15]), 'time': array([    0.,  1800.,  3600.]), 'Q_flow_so': array([ 500.        ,  564.70476128,  629.40952255]), 'T_in_min': array([ 293.15,  293.15,  293.15])}\n"
     ]
    }
   ],
   "source": [
    "prediction = mpcpy.Prediction(boundaryconditions)\n",
    "\n",
    "# test\n",
    "print( prediction([0.,1800.,3600.]) )"
   ]
  },
  {
   "cell_type": "markdown",
   "metadata": {},
   "source": [
    "### Control\n",
    "The `Control` class combines state estimations and predictions and solves an optimal control problem.\n",
    "The class is built as a base class as the optimal control program will be different for every system.\n",
    "Upon initialization a `stateestimation` object, `prediction` object must be given. Several other arguments are optional.\n",
    "A `parameters=None` argument can be used to pass model parameters to the optimal control problem.\n",
    "The `horizon=24*3600.` argument determines how far the optimal control problem will look into the future.\n",
    "The `timestep=3600.` argument determines the discretization time step of the optimal control problem.\n",
    "The `receding=3600.` argument determines the time between two control optimizations\n",
    "\n",
    "A `time` method is implemented which creates a control time array for the next control optimization based on a `starttime` argument and the above mentioned times.\n",
    "The `__call__` method runs the state estimation, the predictions and tries to solve the optimal control problem.\n",
    "The solving of the optimal control problem is done by calling the `solution` method which solves the problem and returns a dictionary of control inputs.\n",
    "\n",
    "In the `formulation` method is executed during the first call to the control function and can be used to define helping elements which do not change during the MPC. This can be used to avoid redefining the problem on every control time step which could be very slow for large optimal control problems.\n",
    "\n",
    "The base class the `solution` and `formulation` methods are blank so they need to be customized in a child class. "
   ]
  },
  {
   "cell_type": "markdown",
   "metadata": {},
   "source": [
    "#### Example:"
   ]
  },
  {
   "cell_type": "code",
   "execution_count": 7,
   "metadata": {
    "collapsed": false
   },
   "outputs": [
    {
     "name": "stdout",
     "output_type": "stream",
     "text": [
      "{'Q_flow_hp': array([  128.77425437,  1494.47193837,  1726.3956544 ,  1615.29354912,\n",
      "        1564.48272643,  1577.42585992,  1653.24089642,  1786.7611665 ,\n",
      "        1968.8874844 ,  2187.20824254,  2426.84524203,  2671.46761738,\n",
      "        2904.40475797,  3109.78238262,  3273.6043456 ,  3384.70645088,\n",
      "        3435.51727357,  3422.57414008,  3346.75910358,  3213.2388335 ,\n",
      "        3031.1125156 ,  2812.79175746,     0.        ,     0.        ]), 'T_in': array([ 294.15      ,  293.358     ,  293.15      ,  293.15      ,\n",
      "        293.15      ,  293.15      ,  293.15      ,  293.15      ,\n",
      "        293.15      ,  293.15      ,  293.15      ,  293.15      ,\n",
      "        293.15      ,  293.15      ,  293.15      ,  293.15      ,\n",
      "        293.15      ,  293.15      ,  293.15      ,  293.15      ,\n",
      "        293.15      ,  293.15      ,  293.15      ,  293.15      ,\n",
      "        292.08286126]), 'T_em': array([ 295.15      ,  294.62035873,  294.43125   ,  294.31475244,\n",
      "        294.22536071,  294.16916672,  294.15      ,  294.16916672,\n",
      "        294.22536071,  294.31475244,  294.43125   ,  294.56691429,\n",
      "        294.7125    ,  294.85808571,  294.99375   ,  295.11024756,\n",
      "        295.19963929,  295.25583328,  295.275     ,  295.25583328,\n",
      "        295.19963929,  295.11024756,  294.99375   ,  293.93175   ,\n",
      "        293.481462  ]), 'time': array([     0.,   3600.,   7200.,  10800.,  14400.,  18000.,  21600.,\n",
      "        25200.,  28800.,  32400.,  36000.,  39600.,  43200.,  46800.,\n",
      "        50400.,  54000.,  57600.,  61200.,  64800.,  68400.,  72000.,\n",
      "        75600.,  79200.,  82800.,  86400.])}\n"
     ]
    }
   ],
   "source": [
    "class Linearprogram(mpcpy.Control):\n",
    "    def formulation(self):\n",
    "        \"\"\"\n",
    "        formulates the abstract optimal control problem\n",
    "        \"\"\"\n",
    "        model = pyomo.AbstractModel()\n",
    "\n",
    "        # sets\n",
    "        model.i = pyomo.Set()   # initialize=range(len(time)-1)\n",
    "        model.ip = pyomo.Set()  # initialize=range(len(time))\n",
    "\n",
    "        # parameters\n",
    "        model.time = pyomo.Param(model.ip)\n",
    "\n",
    "        model.UA_em_in = pyomo.Param(initialize=800.)\n",
    "        model.UA_in_am = pyomo.Param(initialize=200.)\n",
    "\n",
    "        model.C_in = pyomo.Param(initialize=5.0e6)\n",
    "        model.C_em = pyomo.Param(initialize=20.0e6)\n",
    "\n",
    "        model.T_in_ini = pyomo.Param(initialize=21.+273.15)\n",
    "        model.T_em_ini = pyomo.Param(initialize=22.+273.15)\n",
    "\n",
    "        model.T_in_min = pyomo.Param(initialize=20.+273.15)\n",
    "        model.T_in_max = pyomo.Param(initialize=24.+273.15)\n",
    "\n",
    "        model.T_am = pyomo.Param(model.i, initialize=0.+273.15)\n",
    "        model.Q_flow_so = pyomo.Param(model.i, initialize=0.)\n",
    "\n",
    "        \n",
    "        # variables\n",
    "        model.T_in = pyomo.Var(model.ip,domain=pyomo.Reals, initialize=20.+273.15)\n",
    "        model.T_em = pyomo.Var(model.ip,domain=pyomo.Reals,initialize=20.+273.15)\n",
    "        \n",
    "        model.T_in_min_slack = pyomo.Var(model.ip,domain=pyomo.NonNegativeReals, initialize=0)\n",
    "        model.T_in_max_slack = pyomo.Var(model.ip,domain=pyomo.NonNegativeReals, initialize=0)\n",
    "        \n",
    "        model.Q_flow_hp = pyomo.Var(model.i,domain=pyomo.NonNegativeReals,bounds=(0.,10000.),initialize=0.)\n",
    "\n",
    "\n",
    "      \n",
    "        # constraints\n",
    "        model.state_T_em = pyomo.Constraint(\n",
    "            model.i,\n",
    "            rule=lambda model,i: model.C_em*(model.T_em[i+1]-model.T_em[i])/(model.time[i+1]-model.time[i]) == \\\n",
    "                          model.Q_flow_hp[i] \\\n",
    "                        - model.UA_em_in*(model.T_em[i]-model.T_in[i])\n",
    "        )\n",
    "        model.ini_T_em = pyomo.Constraint(rule=lambda model: model.T_em[0] == model.T_em_ini)\n",
    "\n",
    "        \n",
    "        model.state_T_in = pyomo.Constraint(\n",
    "            model.i,\n",
    "            rule=lambda model,i: model.C_in*(model.T_in[i+1]-model.T_in[i])/(model.time[i+1]-model.time[i]) == \\\n",
    "                          model.Q_flow_so[i] \\\n",
    "                        - model.UA_em_in*(model.T_in[i]-model.T_em[i]) \\\n",
    "                        - model.UA_in_am*(model.T_in[i]-model.T_am[i])\n",
    "        )\n",
    "        model.ini_T_in = pyomo.Constraint(rule=lambda model: model.T_in[0] == model.T_in_ini)\n",
    "        \n",
    "        \n",
    "        # soft constraints\n",
    "        model.constraint_T_in_min_slack = pyomo.Constraint(\n",
    "            model.ip,\n",
    "            rule=lambda model,i: model.T_in_min_slack[i] >= model.T_in_min-model.T_in[i]\n",
    "        )\n",
    "        \n",
    "        model.constraint_T_in_max_slack = pyomo.Constraint(\n",
    "            model.ip,\n",
    "            rule=lambda model,i: model.T_in_max_slack[i] >= model.T_in[i]-model.T_in_max\n",
    "        )\n",
    "        \n",
    "        # a large number\n",
    "        L = 1e6\n",
    "        \n",
    "        # objective\n",
    "        model.objective = pyomo.Objective(\n",
    "            rule=lambda model: sum(model.Q_flow_hp[i]*(model.time[i+1]-model.time[i])/3600/1000 for i in model.i) \\\n",
    "                              +sum(model.T_in_min_slack[i]*(model.time[i+1]-model.time[i])/3600 for i in model.i)*L\\\n",
    "                              +sum(model.T_in_max_slack[i]*(model.time[i+1]-model.time[i])/3600 for i in model.i)*L\\\n",
    "        )\n",
    "    \n",
    "        self.model = model\n",
    "        \n",
    "    def solution(self,sta,pre):\n",
    "        \"\"\"\n",
    "        instanciate the optimal control problem, solve it and return a solution dictionary\n",
    "        \"\"\"\n",
    "        \n",
    "        ip = np.arange(len(pre['time']))\n",
    "        \n",
    "        data = {\n",
    "            None:{\n",
    "                'i':{None: ip[:-1]},\n",
    "                'ip':{None: ip},\n",
    "                'time':{(i,): v for i,v in enumerate(pre['time'])},\n",
    "                'T_am':{(i,): pre['T_am'][i] for i in ip[:-1]},\n",
    "                'Q_flow_so':{(i,): pre['Q_flow_so'][i] for i in ip[:-1]},  \n",
    "                'T_em_ini': {None: sta['T_em']},\n",
    "                'T_in_ini': {None: sta['T_in']},\n",
    "                'C_em': {None: self.parameters['C_em']},\n",
    "                'C_in': {None: self.parameters['C_in']},\n",
    "                'UA_em_in': {None: self.parameters['UA_em_in']},    \n",
    "                'UA_in_am': {None: self.parameters['UA_in_am']},\n",
    "            }\n",
    "        }\n",
    "        \n",
    "        instance = self.model.create_instance(data)\n",
    "        optimizer = pyomo.SolverFactory('cplex')\n",
    "        results = optimizer.solve(instance)\n",
    "        \n",
    "        # return the contol inputs\n",
    "        sol = {\n",
    "            'time': np.array([pyomo.value(instance.time[i]) for i in instance.ip]),\n",
    "            'T_em': np.array([pyomo.value(instance.T_em[i]) for i in instance.ip]),\n",
    "            'T_in': np.array([pyomo.value(instance.T_in[i]) for i in instance.ip]),\n",
    "            'Q_flow_hp': np.array([pyomo.value(instance.Q_flow_hp[i]) for i in instance.i]),\n",
    "        }\n",
    "\n",
    "        return sol\n",
    "\n",
    "    \n",
    "# define parameters for the control instance\n",
    "control_parameters = {\n",
    "    'C_in': emulator_parameters['C_in'],\n",
    "    'C_em': emulator_parameters['C_em'],\n",
    "    'UA_in_am': emulator_parameters['UA_in_am'],\n",
    "    'UA_em_in': emulator_parameters['UA_em_in'],\n",
    "}\n",
    "# create an instance\n",
    "control = Linearprogram(\n",
    "    stateestimation,\n",
    "    prediction,\n",
    "    parameters=control_parameters,\n",
    "    horizon=24*3600.,\n",
    "    timestep=3600.,\n",
    "    receding=3600.\n",
    ")\n",
    "# test\n",
    "print( control(0) )"
   ]
  },
  {
   "cell_type": "markdown",
   "metadata": {},
   "source": [
    "## MPC\n",
    "Everything comes together in the `MPC` class. This creates a callable object which runs the MPC and returns a result dictionary from the emulator."
   ]
  },
  {
   "cell_type": "code",
   "execution_count": 8,
   "metadata": {
    "collapsed": false
   },
   "outputs": [
    {
     "name": "stdout",
     "output_type": "stream",
     "text": [
      "Run MPC                                                                        |\n",
      "--------------------------------------------------------------------------------  done\n"
     ]
    }
   ],
   "source": [
    "mpc = mpcpy.MPC(\n",
    "    emulator,\n",
    "    control,\n",
    "    boundaryconditions,\n",
    "    emulationtime=1*24*3600.,\n",
    "    resulttimestep=60\n",
    ")\n",
    "\n",
    "#run the mpc\n",
    "res = mpc()"
   ]
  },
  {
   "cell_type": "markdown",
   "metadata": {},
   "source": [
    "Finally create a plot of the results"
   ]
  },
  {
   "cell_type": "code",
   "execution_count": 9,
   "metadata": {
    "collapsed": false
   },
   "outputs": [
    {
     "data": {
      "text/plain": [
       "<matplotlib.legend.Legend at 0x10b11b50>"
      ]
     },
     "execution_count": 9,
     "metadata": {},
     "output_type": "execute_result"
    },
    {
     "data": {
      "image/png": "[encoded data removed]",
      "text/plain": [
       "<matplotlib.figure.Figure at 0x109ac910>"
      ]
     },
     "metadata": {},
     "output_type": "display_data"
    }
   ],
   "source": [
    "plt.figure(figsize=(10,8))\n",
    "ax = plt.subplot(211)\n",
    "ax.plot(res['time']/3600,res['Q_flow_hp'],'k',label='hp')\n",
    "ax.plot(res['time']/3600,res['Q_flow_so'],'g',label='sol')\n",
    "ax.set_ylabel('Heat flow rate (W)')\n",
    "plt.legend(loc='lower right')\n",
    "\n",
    "ax = plt.subplot(212)\n",
    "ax.plot(res['time']/3600,res['T_in']-273.17,'k',label='in')\n",
    "ax.plot(res['time']/3600,res['T_em']-273.17,'b',label='em')\n",
    "ax.plot(res['time']/3600,res['T_am']-273.17,'g',label='amb')\n",
    "ax.set_ylabel('Temperature ($^\\circ$C)')\n",
    "ax.set_xlabel('Time (h)')\n",
    "plt.legend(loc='lower right')"
   ]
  },
  {
   "cell_type": "code",
   "execution_count": null,
   "metadata": {
    "collapsed": true
   },
   "outputs": [],
   "source": []
  },
  {
   "cell_type": "markdown",
   "metadata": {},
   "source": [
    "### Using the default emulator\n",
    "\n",
    "The default emulator simply reuses the control solution. The results are a bit different due to model mismatch."
   ]
  },
  {
   "cell_type": "code",
   "execution_count": 10,
   "metadata": {
    "collapsed": false
   },
   "outputs": [
    {
     "name": "stdout",
     "output_type": "stream",
     "text": [
      "Run MPC                                                                        |\n",
      "--------------------------------------------------------------------------------  done\n"
     ]
    }
   ],
   "source": [
    "def_emulator = mpcpy.Emulator(['T_am','Q_flow_so','Q_flow_hp','T_in','T_em'])\n",
    "def_emulator.set_initial_conditions(emulator_initialconditions)\n",
    "\n",
    "def_stateestimation = Stateestimation_perfect(def_emulator)\n",
    "def_control = Linearprogram(\n",
    "    def_stateestimation,\n",
    "    prediction,\n",
    "    parameters=control_parameters,\n",
    "    horizon=24*3600.,\n",
    "    timestep=3600.,\n",
    "    receding=3600.\n",
    ")\n",
    "def_mpc = mpcpy.MPC(\n",
    "    def_emulator,\n",
    "    def_control,\n",
    "    boundaryconditions,\n",
    "    emulationtime=1*24*3600.,\n",
    "    resulttimestep=60\n",
    ")\n",
    "\n",
    "# run the mpc\n",
    "def_res = def_mpc()"
   ]
  },
  {
   "cell_type": "code",
   "execution_count": 11,
   "metadata": {
    "collapsed": false
   },
   "outputs": [
    {
     "data": {
      "text/plain": [
       "<matplotlib.legend.Legend at 0x109bcd70>"
      ]
     },
     "execution_count": 11,
     "metadata": {},
     "output_type": "execute_result"
    },
    {
     "data": {
      "image/png": "[encoded data removed]",
      "text/plain": [
       "<matplotlib.figure.Figure at 0x111315b0>"
      ]
     },
     "metadata": {},
     "output_type": "display_data"
    }
   ],
   "source": [
    "plt.figure(figsize=(10,8))\n",
    "ax = plt.subplot(211)\n",
    "ax.plot(def_res['time']/3600,def_res['Q_flow_hp'],'k',label='hp')\n",
    "ax.plot(res['time']/3600,res['Q_flow_hp'],'k--')\n",
    "ax.plot(def_res['time']/3600,def_res['Q_flow_so'],'g',label='sol')\n",
    "ax.set_ylabel('Heat flow rate (W)')\n",
    "plt.legend(loc='lower right')\n",
    "\n",
    "ax = plt.subplot(212)\n",
    "ax.plot(def_res['time']/3600,def_res['T_in']-273.17,'k',label='in')\n",
    "ax.plot(def_res['time']/3600,def_res['T_em']-273.17,'b',label='em')\n",
    "ax.plot(def_res['time']/3600,def_res['T_am']-273.17,'g',label='amb')\n",
    "ax.plot(res['time']/3600,res['T_in']-273.17,'k--')\n",
    "ax.plot(res['time']/3600,res['T_em']-273.17,'b--')\n",
    "ax.set_ylabel('Temperature ($^\\circ$C)')\n",
    "ax.set_xlabel('Time (h)')\n",
    "plt.legend(loc='lower right')"
   ]
  },
  {
   "cell_type": "code",
   "execution_count": null,
   "metadata": {
    "collapsed": true
   },
   "outputs": [],
   "source": []
  }
 ],
 "metadata": {
  "kernelspec": {
   "display_name": "Python 2",
   "language": "python",
   "name": "python2"
  },
  "language_info": {
   "codemirror_mode": {
    "name": "ipython",
    "version": 2
   },
   "file_extension": ".py",
   "mimetype": "text/x-python",
   "name": "python",
   "nbconvert_exporter": "python",
   "pygments_lexer": "ipython2",
   "version": "2.7.11"
  }
 },
 "nbformat": 4,
 "nbformat_minor": 0
}
