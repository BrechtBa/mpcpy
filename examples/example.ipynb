{
 "cells": [
  {
   "cell_type": "code",
   "execution_count": 1,
   "metadata": {
    "collapsed": true
   },
   "outputs": [],
   "source": [
    "import numpy as np\n",
    "import mpcpy"
   ]
  },
  {
   "cell_type": "code",
   "execution_count": 2,
   "metadata": {
    "collapsed": false
   },
   "outputs": [
    {
     "name": "stdout",
     "output_type": "stream",
     "text": [
      "{'p_el': 0.20647047612756303, 'Q_flow_hp_max': 5000.0, 'Q_flow_sol': 564.7047612756302, 'T_em_max': 303.15, 'time': 1800.0, 'T_amb': 278.4088190451025, 'T_in_min': 293.15}\n",
      "{'p_el': 0.20000000000000004, 'Q_flow_hp_max': 5000.0, 'Q_flow_sol': 500.00000000000034, 'T_em_max': 303.15, 'time': 88200.0, 'T_amb': 278.15, 'T_in_min': 293.15}\n"
     ]
    }
   ],
   "source": [
    "time = np.arange(0.,24.01*3600.,3600.)\n",
    "bcs = {'time': time,\n",
    "       'T_amb': 5 + 2*np.sin(2*np.pi*time/24./3600.)+273.15,\n",
    "       'Q_flow_sol': 500 + 500*np.sin(2*np.pi*time/24./3600.),\n",
    "       'p_el': 0.2 + 0.05*np.sin(2*np.pi*time/24./3600.),\n",
    "       'Q_flow_hp_max': 5000*np.ones_like(time),\n",
    "       'T_in_min': 20*np.ones_like(time)+273.15,\n",
    "       'T_em_max': 30*np.ones_like(time)+273.15}\n",
    "boundaryconditions = mpcpy.Boundaryconditions(bcs,periodic=False)\n",
    "print( boundaryconditions(1800) )\n",
    "print( boundaryconditions(24.5*3600) )"
   ]
  },
  {
   "cell_type": "code",
   "execution_count": 3,
   "metadata": {
    "collapsed": false
   },
   "outputs": [],
   "source": [
    "import dympy\n",
    "\n",
    "dymola = dympy.Dymola()\n",
    "dymola.clear()\n",
    "dymola.openModel('example.mo')\n",
    "dymola.compile('example')"
   ]
  },
  {
   "cell_type": "code",
   "execution_count": 4,
   "metadata": {
    "collapsed": false
   },
   "outputs": [
    {
     "name": "stdout",
     "output_type": "stream",
     "text": [
      "[    0.  3600.  7200.]\n",
      "[ 294.15008545  293.51867676  293.57620239]\n"
     ]
    }
   ],
   "source": [
    "emulator = mpcpy.Emulator(dymola,['T_amb','Q_flow_sol','Q_flow_hp'])\n",
    "inp = {'time': [0., 3600., 7200.], 'T_amb': [273.15, 274.15, 275.15], 'Q_flow_sol': [500., 400., 300.], 'Q_flow_hp': [4000., 4000., 4000.]}\n",
    "emulator_parameters = {'C_em.C': 10e6, 'C_in.C': 5e6, 'UA_in_amb.G': 200, 'UA_em_in.G': 1600}\n",
    "emulator.set_parameters(emulator_parameters)\n",
    "\n",
    "emulator_initialconditions = {'C_em.T': 22+273.15, 'C_in.T': 21+273.15}\n",
    "emulator.set_initial_conditions(emulator_initialconditions)\n",
    "\n",
    "emulator.initialize()\n",
    "emulator(inp)\n",
    "\n",
    "print( emulator.res['time'] )\n",
    "print( emulator.res['C_in.T'] )"
   ]
  },
  {
   "cell_type": "code",
   "execution_count": 5,
   "metadata": {
    "collapsed": false
   },
   "outputs": [
    {
     "name": "stdout",
     "output_type": "stream",
     "text": [
      "{'T_in': 293.57620239257812, 'T_em': 295.7989501953125}\n"
     ]
    }
   ],
   "source": [
    "class Stateestimation_perfect(mpcpy.Stateestimation):\n",
    "    # redefine the stateestimation method\n",
    "    def stateestimation(self,time):\n",
    "        state = {}\n",
    "        state['T_in'] = self.emulator.res['C_in.T'][-1]\n",
    "        state['T_em'] = self.emulator.res['C_em.T'][-1]\n",
    "        return state\n",
    "\n",
    "stateestimation = Stateestimation_perfect(emulator)\n",
    "print( stateestimation(0) )"
   ]
  },
  {
   "cell_type": "code",
   "execution_count": 6,
   "metadata": {
    "collapsed": false
   },
   "outputs": [
    {
     "name": "stdout",
     "output_type": "stream",
     "text": [
      "{'p_el': array([ 0.2       ,  0.20647048,  0.21294095]), 'Q_flow_hp_max': array([ 5000.,  5000.,  5000.]), 'Q_flow_sol': array([ 500.        ,  564.70476128,  629.40952255]), 'T_em_max': array([ 303.15,  303.15,  303.15]), 'time': array([    0.,  1800.,  3600.]), 'T_amb': array([ 278.15      ,  278.40881905,  278.66763809]), 'T_in_min': array([ 293.15,  293.15,  293.15])}\n"
     ]
    }
   ],
   "source": [
    "prediction = mpcpy.Prediction(boundaryconditions)\n",
    "print( prediction([0.,1800.,3600.]) )"
   ]
  },
  {
   "cell_type": "code",
   "execution_count": 7,
   "metadata": {
    "collapsed": false
   },
   "outputs": [
    {
     "name": "stdout",
     "output_type": "stream",
     "text": [
      "0\n",
      "{'Q_flow_hp': array([ 5000.        ,   999.31263334,     0.        ,     0.        ,\n",
      "         218.44463972,  1577.42585992,  1653.24089642,  1786.7611665 ,\n",
      "        1968.8874844 ,  2187.20824254,  2426.84524203,  2671.46761738,\n",
      "        2904.40475797,  3109.78238262,  3273.6043456 ,  3384.70645088,\n",
      "        3435.51727357,  3422.57414008,  3346.75910358,  3213.2388335 ,\n",
      "        5000.        ,  2560.77415946,  1019.59227508,     0.        ,\n",
      "           0.        ]), 'time': array([     0.,   3600.,   7200.,  10800.,  14400.,  18000.,  21600.,\n",
      "        25200.,  28800.,  32400.,  36000.,  39600.,  43200.,  46800.,\n",
      "        50400.,  54000.,  57600.,  61200.,  64800.,  68400.,  72000.,\n",
      "        75600.,  79200.,  82800.,  86400.])}\n"
     ]
    }
   ],
   "source": [
    "import cplex\n",
    "class Linearprogram(mpcpy.Control):\n",
    "    def formulation(self):\n",
    "        # define temporary times, state estimations and prediction to use while defining the problem\n",
    "        time = self.time(0)\n",
    "        dt = time[1]-time[0]\n",
    "        N = len(time)\n",
    "        sta = self.stateestimation(time[0])\n",
    "        pre = self.prediction(time)\n",
    "        par = self.parameters\n",
    "\n",
    "        ocp = cplex.Cplex()\n",
    "\n",
    "        # shorthand for 1\n",
    "        ones = np.ones(N)\n",
    "\n",
    "        # add variables, don't wory about bounds yet as they will be set in the solution function\n",
    "        ocp.variables.add(obj = 0*ones, lb = 0*ones, ub = 1e6*ones, names = ['Q_flow_hp[%s]'%(i) for i in range(N)])\n",
    "        ocp.variables.add(obj = 0*ones, lb = 0*ones, ub = 1e6*ones, names = ['T_in[%s]'%(i) for i in range(N)])\n",
    "        ocp.variables.add(obj = 0*ones, lb = 0*ones, ub = 1e6*ones, names = ['T_em[%s]'%(i) for i in range(N)])\n",
    "\n",
    "        # add state constraints\n",
    "        for i in range(N-1):\n",
    "            # T_in\n",
    "            # C_in/dt*(T_in[i+1]-T_in[i]) = UA_in_amb*(T_amb[i]-T_in[i]) + UA_em_in*(T_em[i]-T_in[i]) + Q_flow_sol[i]\n",
    "            ocp.linear_constraints.add(\n",
    "                    lin_expr = [[['T_in[%s]'%(i)                                   , 'T_in[%s]'%(i+1) , 'T_em[%s]'%(i)    ],\n",
    "                                 [-par['C_in']/dt+par['UA_in_amb']+par['UA_em_in'] , par['C_in']/dt   , -par['UA_em_in']  ]]],\n",
    "                    senses = 'E',\n",
    "                    rhs = [par['UA_in_amb']*pre['T_amb'][i] + pre['Q_flow_sol'][i] ],\n",
    "                    names = ['state_T_in[%s]'%(i)])\n",
    "\n",
    "\n",
    "            # T_em\n",
    "            # C_em/dt*(T_em[i+1]-T_em[i]) = UA_em_in*(T_in[i]-T_em[i]) + Q_flow_hp[i]\n",
    "            ocp.linear_constraints.add(\n",
    "                    lin_expr = [[['T_em[%s]'%(i)                  , 'T_em[%s]'%(i+1) , 'T_in[%s]'%(i)    , 'Q_flow_hp[%s]'%(i) ],\n",
    "                                 [-par['C_em']/dt+par['UA_em_in'] ,  par['C_em']/dt  , -par['UA_em_in']  , -1                  ]]],\n",
    "                    senses = 'E',\n",
    "                    rhs = [0],\n",
    "                    names = ['state_T_em[%s]'%(i)])\n",
    "\n",
    "        # add initial values\n",
    "        ocp.linear_constraints.add(lin_expr = [[['T_in[0]',   ],\n",
    "                                                 [1]]],\n",
    "                                   senses = 'E',\n",
    "                                   rhs = [sta['T_in'].item()],\n",
    "                                   names = ['T_in_ini'])\n",
    "\n",
    "        ocp.linear_constraints.add(lin_expr = [[['T_em[0]',   ],\n",
    "                                                 [1]]],\n",
    "                                   senses = 'E',\n",
    "                                   rhs = [sta['T_em'].item()],\n",
    "                                   names = ['T_em_ini'])\n",
    "            \n",
    "            \n",
    "        # disable output printing\n",
    "        ocp.set_log_stream(None)\n",
    "        #ocp.set_error_stream(None)\n",
    "        ocp.set_warning_stream(None)\n",
    "        ocp.set_results_stream(None)\n",
    "\n",
    "        self.ocp = ocp\n",
    "        \n",
    "        def solution(sta,pre):\n",
    "            # define the cost function\n",
    "            ocp.objective.set_linear( [('Q_flow_hp[%s]'%(i),par['COP']*pre['p_el'][i]/1000*dt/3600) for i in range(N)] )\n",
    "\n",
    "            # hard bounds\n",
    "            ocp.variables.set_lower_bounds( [('T_in[%s]'%(i)     ,pre['T_in_min'][i]) for i in range(N)])\n",
    "            ocp.variables.set_upper_bounds( [('Q_flow_hp[%s]'%(i),pre['Q_flow_hp_max'][i]) for i in range(N)]\n",
    "                                           +[('T_em[%s]'%(i)     ,pre['T_em_max'][i]) for i in range(N)])\n",
    "            \n",
    "            \n",
    "            # state constraints\n",
    "            ocp.linear_constraints.set_rhs( [('state_T_in[%s]'%(i),par['UA_in_amb']*pre['T_amb'][i] + pre['Q_flow_sol'][i]) for i in range(N-1)]\n",
    "                                           +[('state_T_em[%s]'%(i),0) for i in range(N-1)] )\n",
    "\n",
    "            # initial conditions\n",
    "            ocp.linear_constraints.set_rhs( [('T_in_ini',sta['T_in'].item())]\n",
    "                                           +[('T_em_ini',sta['T_em'].item())] )\n",
    "            \n",
    "            # solve the optimal control problem\n",
    "            ocp.solve()\n",
    "\n",
    "            # add a properties with the ocp problem with the solution for inspection\n",
    "            self.ocp = ocp\n",
    "\n",
    "            # return the contol inputs\n",
    "            sol = {}\n",
    "            sol['time'] = pre['time']\n",
    "            sol['Q_flow_hp'] = np.array( ocp.solution.get_values(['Q_flow_hp[%s]'%(i) for i in range(N)]) )\n",
    "\n",
    "            return sol\n",
    "\n",
    "        return solution\n",
    "\n",
    "\n",
    "control_parameters = {'C_in': emulator_parameters['C_in.C'],\n",
    "                      'C_em': emulator_parameters['C_em.C'],\n",
    "                      'UA_in_amb': emulator_parameters['UA_in_amb.G'],\n",
    "                      'UA_em_in': emulator_parameters['UA_em_in.G'],\n",
    "                      'COP': 4}\n",
    "control = Linearprogram(stateestimation,prediction,parameters=control_parameters,horizon=24*3600.,timestep=3600.,receding=3600.)\n",
    "\n",
    "print( control.ocp.solution.get_status() )\n",
    "print( control(0) )"
   ]
  },
  {
   "cell_type": "code",
   "execution_count": 8,
   "metadata": {
    "collapsed": false
   },
   "outputs": [
    {
     "name": "stdout",
     "output_type": "stream",
     "text": [
      "Run MPC                                                                        |\n",
      "--------------------------------------------------------------------------------  done\n",
      "[  4.54958984e+03   4.54958984e+03   4.54958984e+03   4.54958984e+03\n",
      "   4.54958984e+03   4.54958984e+03   2.65426245e+03   1.73182080e+03\n",
      "   1.73182080e+03   1.73182080e+03   1.73182080e+03   1.73182080e+03\n",
      "   1.73182080e+03   1.44314485e-01   0.00000000e+00   0.00000000e+00\n",
      "   0.00000000e+00   0.00000000e+00   0.00000000e+00   0.00000000e+00\n",
      "   0.00000000e+00   1.14616814e+02   1.14616814e+02   1.14616814e+02\n",
      "   1.14616814e+02   1.14616814e+02   1.14616814e+02   8.49753127e+02\n",
      "   7.69080078e+02   7.69080078e+02   7.69080078e+02   7.69080078e+02\n",
      "   7.69080078e+02   7.69080078e+02   1.34828278e+03   1.20817261e+03\n",
      "   1.20817261e+03   1.20817261e+03   1.20817261e+03   1.20817261e+03\n",
      "   1.20817261e+03   1.56455965e+03   1.48443311e+03   1.48443311e+03\n",
      "   1.48443311e+03   1.48443311e+03   1.48443311e+03   1.48443311e+03\n",
      "   1.74003009e+03   1.70538147e+03   1.70538147e+03   1.70538147e+03\n",
      "   1.70538147e+03   1.70538147e+03   1.70538147e+03   1.93924369e+03\n",
      "   1.92783472e+03   1.92783472e+03   1.92783472e+03   1.92783472e+03\n",
      "   1.92783472e+03   1.92783472e+03   2.16992367e+03   2.16899609e+03\n",
      "   2.16899609e+03   2.16899609e+03   2.16899609e+03   2.16899609e+03\n",
      "   2.16899609e+03   2.42186369e+03   2.42547778e+03   2.42547778e+03\n",
      "   2.42547778e+03   2.42547778e+03   2.42547778e+03   2.42547778e+03\n",
      "   2.67905260e+03   2.68453931e+03   2.68453931e+03   2.68453931e+03\n",
      "   2.68453931e+03   2.68453931e+03   2.68453931e+03   2.92404449e+03\n",
      "   2.93020801e+03   2.93020801e+03   2.93020801e+03   2.93020801e+03\n",
      "   2.93020801e+03   2.93020801e+03   3.14026008e+03   3.14629126e+03\n",
      "   3.14629126e+03   3.14629126e+03   3.14629126e+03   3.14629126e+03\n",
      "   3.14629126e+03   3.31281058e+03   3.31830688e+03   3.31830688e+03\n",
      "   3.31830688e+03   3.31830688e+03   3.31830688e+03   3.31830688e+03\n",
      "   3.43004342e+03   3.43448511e+03   3.43448511e+03   3.43448511e+03\n",
      "   3.43448511e+03   3.43448511e+03   3.43448511e+03   3.48387577e+03\n",
      "   3.48698901e+03   3.48698901e+03   3.48698901e+03   3.48698901e+03\n",
      "   3.48698901e+03   3.48698901e+03   3.47063588e+03   3.47224878e+03\n",
      "   3.47224878e+03   3.47224878e+03   3.47224878e+03   3.47224878e+03\n",
      "   3.47224878e+03   3.39126505e+03   3.39125098e+03   3.39125098e+03\n",
      "   3.39125098e+03   3.39125098e+03   3.39125098e+03   3.39125098e+03\n",
      "   3.24853777e+03   3.25168042e+03   3.25168042e+03   3.25168042e+03\n",
      "   3.25168042e+03   3.25168042e+03   3.25168042e+03   4.99985437e+03\n",
      "   5.00000000e+03   5.00000000e+03   5.00000000e+03   5.00000000e+03\n",
      "   5.00000000e+03   5.00000000e+03   5.00000000e+03   5.00000000e+03\n",
      "   5.00000000e+03   5.00000000e+03   5.00000000e+03   5.00000000e+03\n",
      "   5.00000000e+03   3.99989923e+03   4.04987842e+03   4.04987842e+03\n",
      "   4.04987842e+03   4.04987842e+03   4.04987842e+03   4.04987842e+03\n",
      "   3.37343451e-01   0.00000000e+00   0.00000000e+00   0.00000000e+00\n",
      "   0.00000000e+00   0.00000000e+00   0.00000000e+00   2.50963343e+01\n",
      "   2.50984249e+01]\n"
     ]
    }
   ],
   "source": [
    "mpc = mpcpy.MPC(emulator,control,boundaryconditions,emulationtime=1*24*3600.,resulttimestep=600)\n",
    "res = mpc()\n",
    "print(res['Q_flow_hp'])"
   ]
  },
  {
   "cell_type": "code",
   "execution_count": 9,
   "metadata": {
    "collapsed": false
   },
   "outputs": [
    {
     "data": {
      "text/plain": [
       "<matplotlib.legend.Legend at 0x591a630>"
      ]
     },
     "execution_count": 9,
     "metadata": {},
     "output_type": "execute_result"
    },
    {
     "data": {
      "image/png": "[encoded data removed]",
      "text/plain": [
       "<matplotlib.figure.Figure at 0x58fa390>"
      ]
     },
     "metadata": {},
     "output_type": "display_data"
    }
   ],
   "source": [
    "%matplotlib inline\n",
    "import matplotlib.pyplot as plt\n",
    "\n",
    "plt.figure(figsize=(10,8))\n",
    "ax = plt.subplot(211)\n",
    "ax.plot(res['time']/3600,res['Q_flow_hp'],'k',label='hp')\n",
    "ax.plot(res['time']/3600,res['Q_flow_sol'],'g',label='sol')\n",
    "ax.set_ylabel('$\\dot{Q}$ (W)')\n",
    "plt.legend()\n",
    "\n",
    "ax = plt.subplot(212)\n",
    "ax.plot(res['time']/3600,res['C_in.T']-273.17,'k',label='in')\n",
    "ax.plot(res['time']/3600,res['C_em.T']-273.17,'b',label='em')\n",
    "ax.plot(res['time']/3600,res['T_amb']-273.17,'g',label='amb')\n",
    "ax.set_ylabel('$T$ ($^\\circ$C)')\n",
    "ax.set_xlabel('time (h)')\n",
    "plt.legend()"
   ]
  },
  {
   "cell_type": "code",
   "execution_count": null,
   "metadata": {
    "collapsed": true
   },
   "outputs": [],
   "source": []
  }
 ],
 "metadata": {
  "kernelspec": {
   "display_name": "Python 2",
   "language": "python",
   "name": "python2"
  },
  "language_info": {
   "codemirror_mode": {
    "name": "ipython",
    "version": 2
   },
   "file_extension": ".py",
   "mimetype": "text/x-python",
   "name": "python",
   "nbconvert_exporter": "python",
   "pygments_lexer": "ipython2",
   "version": "2.7.10"
  }
 },
 "nbformat": 4,
 "nbformat_minor": 0
}
