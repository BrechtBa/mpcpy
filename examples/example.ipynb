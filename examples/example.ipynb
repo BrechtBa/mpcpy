{
 "cells": [
  {
   "cell_type": "markdown",
   "metadata": {
    "collapsed": true
   },
   "source": [
    "# mpcpy Workflow\n",
    "In a model predictive control simulation we need several components. At first we need an emulator to replace the real world system in our computational environment. The system is subjected to certain boundary conditions which may vary. Next we need a controller which will determine the inputs we must supply to the emulated system so it moves in the wanted direction. As we are considering MPC the controller will consist of a state estimation, a prediction and an optimization\n",
    "\n",
    "For each of these components base classes are included in mpcpy. Some of these classes can be used out off the box, others require child class creation which will be explained below.\n",
    "\n",
    "before we start import numpy, matplotlib, mpcpy, dympy which we'll use for simulation, and cplex which will be used for the optimization"
   ]
  },
  {
   "cell_type": "code",
   "execution_count": 1,
   "metadata": {
    "collapsed": true
   },
   "outputs": [],
   "source": [
    "%matplotlib inline\n",
    "\n",
    "import numpy as np\n",
    "import matplotlib.pyplot as plt\n",
    "import mpcpy\n",
    "import dympy\n",
    "import cplex"
   ]
  },
  {
   "cell_type": "markdown",
   "metadata": {},
   "source": [
    "## Boundary conditions\n",
    "As all systems are subject to some boundary conditions a Boundaryconditions class is constructed.\n",
    "This class main purpose is to handle the interpolation of boundary conditions to the correct times (also for predictions which may lay outside of the emulation interval).\n",
    "By default it assumes periodic boundary conditions but this can be altered to maintaining the first or last entry when time flows outside of the defined range by setting `periodic=False` as an argument on creation."
   ]
  },
  {
   "cell_type": "markdown",
   "metadata": {},
   "source": [
    "#### Example:"
   ]
  },
  {
   "cell_type": "code",
   "execution_count": 2,
   "metadata": {
    "collapsed": false
   },
   "outputs": [
    {
     "name": "stdout",
     "output_type": "stream",
     "text": [
      "{'p_el': 0.20647047612756303, 'Q_flow_hp_max': 5000.0, 'Q_flow_sol': 564.7047612756302, 'T_em_max': 303.15, 'time': 1800.0, 'T_amb': 278.4088190451025, 'T_in_min': 293.15}\n",
      "{'p_el': 0.20000000000000004, 'Q_flow_hp_max': 5000.0, 'Q_flow_sol': 500.00000000000034, 'T_em_max': 303.15, 'time': 88200.0, 'T_amb': 278.15, 'T_in_min': 293.15}\n"
     ]
    }
   ],
   "source": [
    "time = np.arange(0.,24.01*3600.,3600.)\n",
    "bcs = {'time': time,\n",
    "       'T_amb': 5 + 2*np.sin(2*np.pi*time/24./3600.)+273.15,\n",
    "       'Q_flow_sol': 500 + 500*np.sin(2*np.pi*time/24./3600.),\n",
    "       'p_el': 0.2 + 0.05*np.sin(2*np.pi*time/24./3600.),\n",
    "       'Q_flow_hp_max': 5000*np.ones_like(time),\n",
    "       'T_in_min': 20*np.ones_like(time)+273.15,\n",
    "       'T_em_max': 30*np.ones_like(time)+273.15}\n",
    "\n",
    "boundaryconditions = mpcpy.Boundaryconditions(bcs,periodic=False)\n",
    "\n",
    "# test\n",
    "print( boundaryconditions(1800) ) \n",
    "print( boundaryconditions(24.5*3600) )  # extrapolation"
   ]
  },
  {
   "cell_type": "markdown",
   "metadata": {},
   "source": [
    "## Emulator\n",
    "The emulator class creates objects used to emulate the system.\n",
    "By default a [dympy](https://github.com/brechtba/dympy) Dymola connection is assumed to do the simulation work but the class can be adapted to use other simulation tools.\n",
    "When creating an object the inputs the model uses need to be specified as a list of strings. These inputs can be controlled inputs or disturbances.\n",
    "There is also an optional argument `initializationtime` which controls the time used for initializing the model the default value is 1 second.\n",
    "\n",
    "The object must have a `res` property where the results of the entire emulation are stored. This property is later used to output the results to the mpcpy object.\n",
    "\n",
    "Model parameters can be defined using the `set_parameters` method which accepts a dictionary with name, value pairs as argument. \n",
    "Initial conditions can be defined using the `set_initial_conditions` method which accepts a dictionary with name, value pairs as argument.\n",
    "\n",
    "Each model must be initialized before a simulation or mpc run using the `initialize`.\n",
    "The initialization sets all parameter values and initial conditions and runs the simulation for a short period to get initial values for all variables in the `res` dictionary.\n",
    "This way rewriting all parameters before every emulation is avoided which results in considerable speed gains.\n",
    "\n",
    "The most important method in the emulator class it the `__call__` method.\n",
    "This method should accepts an input dictionary with inputs to the emulator as only argument and append the results to it's `res` property."
   ]
  },
  {
   "cell_type": "markdown",
   "metadata": {},
   "source": [
    "#### Example:\n",
    "First we need to open and compile a dymola model:"
   ]
  },
  {
   "cell_type": "code",
   "execution_count": 3,
   "metadata": {
    "collapsed": false
   },
   "outputs": [],
   "source": [
    "dymola = dympy.Dymola()\n",
    "dymola.clear()\n",
    "dymola.openModel('example.mo')\n",
    "dymola.compile('example')"
   ]
  },
  {
   "cell_type": "markdown",
   "metadata": {},
   "source": [
    "if we have a dymola model opened and compiled with dympy as `dymola` with 3 inputs `T_amb`, `Q_flow_sol`, `Q_flow_hp` and some parameters defined in Modelica which need to be set, \n",
    "you can create and run an emulator object like this:"
   ]
  },
  {
   "cell_type": "code",
   "execution_count": 4,
   "metadata": {
    "collapsed": false
   },
   "outputs": [
    {
     "name": "stdout",
     "output_type": "stream",
     "text": [
      "[    0.  1200.  2400.  3600.  4800.  6000.  7200.]\n",
      "[ 294.15008545  293.77963256  293.59243774  293.51867676  293.50727335\n",
      "  293.53320313  293.57620239]\n"
     ]
    }
   ],
   "source": [
    "emulator = mpcpy.Emulator(dymola,['T_amb','Q_flow_sol','Q_flow_hp'])\n",
    "\n",
    "emulator_parameters = {'C_em.C': 10e6, \n",
    "                       'C_in.C': 5e6, \n",
    "                       'UA_in_amb.G': 200, \n",
    "                       'UA_em_in.G': 1600}\n",
    "\n",
    "emulator.set_parameters(emulator_parameters)\n",
    "\n",
    "emulator_initialconditions = {'C_em.T': 22+273.15, 'C_in.T': 21+273.15}\n",
    "emulator.set_initial_conditions(emulator_initialconditions)\n",
    "\n",
    "emulator.initialize()\n",
    "\n",
    "# test\n",
    "# some input signals for testing\n",
    "inp = {'time': [0., 3600., 7200.], \n",
    "       'T_amb': [273.15, 274.15, 275.15], \n",
    "       'Q_flow_sol': [500., 400., 300.], \n",
    "       'Q_flow_hp': [4000., 4000., 4000.]}\n",
    "\n",
    "emulator(np.arange(0.,7201.,1200.),inp)\n",
    "\n",
    "print( emulator.res['time'] )\n",
    "print( emulator.res['C_in.T'] )"
   ]
  },
  {
   "cell_type": "markdown",
   "metadata": {},
   "source": [
    "## Control\n",
    "The control algorithm is MPC by default as this is the goal of the project, but it could be modified to use other control techniques at discrete time intervals.\n",
    "An MPC consists of a state estimation, a prediction and a control optimization which will be explained below.\n",
    "\n",
    "The basic principle of MPC is that a model suitable for optimization (for instance a linear or quadratic program or a smooth non-convex model) which represents the system behavior is constructed.\n",
    "Each time step the states of the optimization model are estimated based on measurements or the emulation model in our case.\n",
    "A prediction is made for the disturbances over a certain time period (the control horizon).\n",
    "The model is optimized with respect to the control signals given the predictions and certain constraints and the first sample of the control signals are implemented in the emulator.\n",
    "The system hopefully evolves in the desired direction and the next time step everything starts over.\n",
    "\n",
    "- refs on mpc"
   ]
  },
  {
   "cell_type": "markdown",
   "metadata": {},
   "source": [
    "### State estimation\n",
    "We start by defining a state estimation object. A base class is supplied in mpcpy but due to the specific nature of every model this has to be extended for every MPC.\n",
    "\n",
    "During creation the estimation object has to be given an emulator object which contains the results from which the states can be estimated.\n",
    "The implemented `__call__` method take one argument, time, and simply passes this to the `stateestimation` method and returns the result.\n",
    "\n",
    "The intention is that the `stateestimation` method can be modified in a child class without affecting the overall object behavior and multiple state estimation objects can be created and used."
   ]
  },
  {
   "cell_type": "markdown",
   "metadata": {},
   "source": [
    "#### Example:"
   ]
  },
  {
   "cell_type": "code",
   "execution_count": 5,
   "metadata": {
    "collapsed": false
   },
   "outputs": [
    {
     "name": "stdout",
     "output_type": "stream",
     "text": [
      "{'T_in': 293.57620239257812, 'T_em': 295.7989501953125}\n"
     ]
    }
   ],
   "source": [
    "class Stateestimation_perfect(mpcpy.Stateestimation):\n",
    "    # redefine the stateestimation method\n",
    "    def stateestimation(self,time):\n",
    "        state = {}\n",
    "        state['T_in'] = self.emulator.res['C_in.T'][-1]\n",
    "        state['T_em'] = self.emulator.res['C_em.T'][-1]\n",
    "        return state\n",
    "\n",
    "stateestimation = Stateestimation_perfect(emulator)\n",
    "\n",
    "# test\n",
    "print( stateestimation(0) )"
   ]
  },
  {
   "cell_type": "markdown",
   "metadata": {},
   "source": [
    "### Prediction\n",
    "The `Prediction` class is used to generate predictions from the boundary conditions over a certain time period.\n",
    "\n",
    "On creation it takes a `boundaryconditions` object as argument.\n",
    "It follows the same structure as the `Stateestimation` class but is predefined with a perfect prediction method.\n",
    "\n",
    "This can of course be redefined to more realistic or stochastic prediction models."
   ]
  },
  {
   "cell_type": "markdown",
   "metadata": {},
   "source": [
    "#### Example:"
   ]
  },
  {
   "cell_type": "code",
   "execution_count": 6,
   "metadata": {
    "collapsed": false
   },
   "outputs": [
    {
     "name": "stdout",
     "output_type": "stream",
     "text": [
      "{'p_el': array([ 0.2       ,  0.20647048,  0.21294095]), 'Q_flow_hp_max': array([ 5000.,  5000.,  5000.]), 'Q_flow_sol': array([ 500.        ,  564.70476128,  629.40952255]), 'T_em_max': array([ 303.15,  303.15,  303.15]), 'time': array([    0.,  1800.,  3600.]), 'T_amb': array([ 278.15      ,  278.40881905,  278.66763809]), 'T_in_min': array([ 293.15,  293.15,  293.15])}\n"
     ]
    }
   ],
   "source": [
    "prediction = mpcpy.Prediction(boundaryconditions)\n",
    "\n",
    "# test\n",
    "print( prediction([0.,1800.,3600.]) )"
   ]
  },
  {
   "cell_type": "markdown",
   "metadata": {},
   "source": [
    "### Control\n",
    "The `Control` class combines state estimations and predictions and solves an optimal control problem.\n",
    "The class is built as a base class as the optimal control program will be different for every system.\n",
    "Upon initialization a `stateestimation` object, `prediction` object must be given. Several other arguments are optional.\n",
    "A `parameters=None` argument can be used to pass model parameters to the optimal control problem.\n",
    "The `horizon=24*3600.` argument determines how far the optimal control problem will look into the future.\n",
    "The `timestep=3600.` argument determines the discretization time step of the optimal control problem.\n",
    "The `receding=3600.` argument determines the time between two control optimizations\n",
    "\n",
    "A `time` method is implemented which creates a control time array for the next control optimization based on a `starttime` argument and the above mentioned times.\n",
    "The `__call__` method runs the state estimation, the predictions and tries to solve the optimal control problem.\n",
    "The solving of the optimal control problem is done by calling the `solution` method which solves the problem and returns a dictionary of control inputs.\n",
    "\n",
    "In the `formulation` method is executed during the first call to the control function and can be used to define helping elements which do not change during the MPC. This can be used to avoid redefining the problem on every control time step which could be very slow for large optimal control problems.\n",
    "\n",
    "The base class the `solution` and `formulation` methods are blank so they need to be customized in a child class. \n",
    "\n",
    "In the example below IBM Cplex is used as the optimization solver. More information on how to use Cplex in python can be found [here](https://github.com/BrechtBa/mpcpy/blob/master/examples/cplex_example.ipynb)."
   ]
  },
  {
   "cell_type": "markdown",
   "metadata": {},
   "source": [
    "#### Example:"
   ]
  },
  {
   "cell_type": "code",
   "execution_count": 7,
   "metadata": {
    "collapsed": false
   },
   "outputs": [
    {
     "name": "stdout",
     "output_type": "stream",
     "text": [
      "{'Q_flow_hp': array([  937.33617849,     0.        ,  1694.25986254,  1417.19246022,\n",
      "        1564.48272643,  1577.42585992,  1653.24089642,  1786.7611665 ,\n",
      "        1968.8874844 ,  2187.20824254,  2426.84524203,  2671.46761738,\n",
      "        2904.40475797,  3109.78238262,  3273.6043456 ,  3384.70645088,\n",
      "        3435.51727357,  3422.57414008,  3346.75910358,  3213.2388335 ,\n",
      "        3031.1125156 ,  2812.79175746,  2573.15475797,     0.        ,\n",
      "           0.        ]), 'time': array([     0.,   3600.,   7200.,  10800.,  14400.,  18000.,  21600.,\n",
      "        25200.,  28800.,  32400.,  36000.,  39600.,  43200.,  46800.,\n",
      "        50400.,  54000.,  57600.,  61200.,  64800.,  68400.,  72000.,\n",
      "        75600.,  79200.,  82800.,  86400.])}\n"
     ]
    }
   ],
   "source": [
    "class Linearprogram(mpcpy.Control):\n",
    "    def formulation(self):\n",
    "        \"\"\"\n",
    "        formulates the optimal control problem\n",
    "        \"\"\"\n",
    "        # define temporary times, state estimations and prediction to use while defining the problem\n",
    "        time = self.time(0)\n",
    "        dt = time[1]-time[0]\n",
    "        N = len(time)\n",
    "        sta = self.stateestimation(time[0])\n",
    "        pre = self.prediction(time)\n",
    "        par = self.parameters\n",
    "\n",
    "        ocp = cplex.Cplex()\n",
    "\n",
    "        # shorthand for 1\n",
    "        ones = np.ones(N)\n",
    "\n",
    "        # add variables, don't wory about bounds yet as they will be set in the solution function\n",
    "        ocp.variables.add(obj = 0*ones, lb = 0*ones, ub = 1e6*ones, names = ['Q_flow_hp[{}]'.format(i) for i in range(N)])\n",
    "        ocp.variables.add(obj = 0*ones, lb = 0*ones, ub = 1e6*ones, names = ['T_in[{}]'.format(i)      for i in range(N)])\n",
    "        ocp.variables.add(obj = 0*ones, lb = 0*ones, ub = 1e6*ones, names = ['T_em[{}]'.format(i)      for i in range(N)])\n",
    "\n",
    "        # add state constraints\n",
    "        for i in range(N-1):\n",
    "            # T_in\n",
    "            # C_in/dt*(T_in[i+1]-T_in[i]) = UA_in_amb*(T_amb[i]-T_in[i]) + UA_em_in*(T_em[i]-T_in[i]) + Q_flow_sol[i]\n",
    "            ocp.linear_constraints.add(\n",
    "                    lin_expr = [[['T_in[{}]'.format(i)                             , 'T_in[{}]'.format(i+1) , 'T_em[{}]'.format(i) ],\n",
    "                                 [-par['C_in']/dt+par['UA_in_amb']+par['UA_em_in'] , par['C_in']/dt   , -par['UA_em_in']           ]]],\n",
    "                    senses = 'E',\n",
    "                    rhs = [par['UA_in_amb']*pre['T_amb'][i] + pre['Q_flow_sol'][i] ],\n",
    "                    names = ['state_T_in[{}]'.format(i)])\n",
    "\n",
    "\n",
    "            # T_em\n",
    "            # C_em/dt*(T_em[i+1]-T_em[i]) = UA_em_in*(T_in[i]-T_em[i]) + Q_flow_hp[i]\n",
    "            ocp.linear_constraints.add(\n",
    "                    lin_expr = [[['T_em[{}]'.format(i)            , 'T_em[{}]'.format(i+1) , 'T_in[{}]'.format(i) , 'Q_flow_hp[{}]'.format(i) ],\n",
    "                                 [-par['C_em']/dt+par['UA_em_in'] ,  par['C_em']/dt        , -par['UA_em_in']     , -1                        ]]],\n",
    "                    senses = 'E',\n",
    "                    rhs = [0],\n",
    "                    names = ['state_T_em[{}]'.format(i)])\n",
    "\n",
    "        # add initial values\n",
    "        ocp.linear_constraints.add(lin_expr = [[['T_in[0]',   ],\n",
    "                                                 [1]]],\n",
    "                                   senses = 'E',\n",
    "                                   rhs = [sta['T_in'].item()],\n",
    "                                   names = ['T_in_ini'])\n",
    "\n",
    "        ocp.linear_constraints.add(lin_expr = [[['T_em[0]',   ],\n",
    "                                                 [1]]],\n",
    "                                   senses = 'E',\n",
    "                                   rhs = [sta['T_em'].item()],\n",
    "                                   names = ['T_em_ini'])\n",
    "            \n",
    "            \n",
    "        # disable output printing\n",
    "        ocp.set_log_stream(None)\n",
    "        #ocp.set_error_stream(None)\n",
    "        ocp.set_warning_stream(None)\n",
    "        ocp.set_results_stream(None)\n",
    "\n",
    "        self.ocp = ocp\n",
    "        \n",
    "    def solution(self,sta,pre):\n",
    "        \"\"\"\n",
    "        redefines parts of the optimal control problem and returns a solution dictionary\n",
    "        \"\"\"\n",
    "        time = pre['time']\n",
    "        dt = time[1]-time[0]\n",
    "        N = len(time)\n",
    "        par = self.parameters\n",
    "        \n",
    "        ocp = self.ocp\n",
    "        \n",
    "        # define the cost function\n",
    "        ocp.objective.set_linear( [('Q_flow_hp[{}]'.format(i),1/par['COP']*pre['p_el'][i]/1000*dt/3600) for i in range(N)] )\n",
    "\n",
    "        # hard bounds\n",
    "        ocp.variables.set_lower_bounds( [('T_in[{}]'.format(i)     ,pre['T_in_min'][i]) for i in range(N)])\n",
    "        ocp.variables.set_upper_bounds( [('Q_flow_hp[{}]'.format(i),pre['Q_flow_hp_max'][i]) for i in range(N)]\n",
    "                                       +[('T_em[{}]'.format(i)     ,pre['T_em_max'][i]) for i in range(N)])\n",
    "\n",
    "\n",
    "        # state constraints\n",
    "        ocp.linear_constraints.set_rhs( [('state_T_in[{}]'.format(i),par['UA_in_amb']*pre['T_amb'][i] + pre['Q_flow_sol'][i]) for i in range(N-1)]\n",
    "                                       +[('state_T_em[{}]'.format(i),0) for i in range(N-1)] )\n",
    "\n",
    "        # initial conditions\n",
    "        ocp.linear_constraints.set_rhs( [('T_in_ini',sta['T_in'].item())]\n",
    "                                       +[('T_em_ini',sta['T_em'].item())] )\n",
    "\n",
    "        # solve the optimal control problem\n",
    "        ocp.solve()\n",
    "\n",
    "        # add a properties with the ocp problem with the solution for inspection\n",
    "        self.ocp = ocp\n",
    "\n",
    "        # return the contol inputs\n",
    "        sol = {}\n",
    "        sol['time'] = pre['time']\n",
    "        sol['Q_flow_hp'] = np.array( ocp.solution.get_values(['Q_flow_hp[{}]'.format(i) for i in range(N)]) )\n",
    "\n",
    "        return sol\n",
    "\n",
    "    \n",
    "# define parameters for the control instance\n",
    "control_parameters = {'C_in': emulator_parameters['C_in.C'],\n",
    "                      'C_em': emulator_parameters['C_em.C'],\n",
    "                      'UA_in_amb': emulator_parameters['UA_in_amb.G'],\n",
    "                      'UA_em_in': emulator_parameters['UA_em_in.G'],\n",
    "                      'COP': 4}\n",
    "# create an instance\n",
    "control = Linearprogram(stateestimation,\n",
    "                        prediction,\n",
    "                        parameters=control_parameters,\n",
    "                        horizon=24*3600.,\n",
    "                        timestep=3600.,\n",
    "                        receding=3600.)\n",
    "# test\n",
    "print( control(0) )"
   ]
  },
  {
   "cell_type": "markdown",
   "metadata": {},
   "source": [
    "## MPC\n",
    "Everything comes together in the `MPC` class. This creates a callable object which runs the MPC and returns a result dictionary from the emulator."
   ]
  },
  {
   "cell_type": "code",
   "execution_count": 8,
   "metadata": {
    "collapsed": false
   },
   "outputs": [
    {
     "name": "stdout",
     "output_type": "stream",
     "text": [
      "Run MPC                                                                        |\n",
      "--------------------------------------------------------------------------------  done\n"
     ]
    }
   ],
   "source": [
    "mpc = mpcpy.MPC(emulator,\n",
    "                control,\n",
    "                boundaryconditions,\n",
    "                emulationtime=1*24*3600.,\n",
    "                resulttimestep=60)\n",
    "\n",
    "#run the mpc\n",
    "res = mpc()"
   ]
  },
  {
   "cell_type": "markdown",
   "metadata": {},
   "source": [
    "Finally create a plot of the results"
   ]
  },
  {
   "cell_type": "code",
   "execution_count": 9,
   "metadata": {
    "collapsed": false
   },
   "outputs": [
    {
     "data": {
      "text/plain": [
       "<matplotlib.legend.Legend at 0x7430db0>"
      ]
     },
     "execution_count": 9,
     "metadata": {},
     "output_type": "execute_result"
    },
    {
     "data": {
      "image/png": "[encoded data removed]",
      "text/plain": [
       "<matplotlib.figure.Figure at 0x71174d0>"
      ]
     },
     "metadata": {},
     "output_type": "display_data"
    }
   ],
   "source": [
    "plt.figure(figsize=(10,8))\n",
    "ax = plt.subplot(211)\n",
    "ax.plot(res['time']/3600,res['Q_flow_hp'],'k',label='hp')\n",
    "ax.plot(res['time']/3600,res['Q_flow_sol'],'g',label='sol')\n",
    "ax.set_ylabel('$\\dot{Q}$ (W)')\n",
    "plt.legend(loc='lower right')\n",
    "\n",
    "ax = plt.subplot(212)\n",
    "ax.plot(res['time']/3600,res['C_in.T']-273.17,'k',label='in')\n",
    "ax.plot(res['time']/3600,res['C_em.T']-273.17,'b',label='em')\n",
    "ax.plot(res['time']/3600,res['T_amb']-273.17,'g',label='amb')\n",
    "ax.set_ylabel('$T$ ($^\\circ$C)')\n",
    "ax.set_xlabel('time (h)')\n",
    "plt.legend(loc='lower right')"
   ]
  },
  {
   "cell_type": "code",
   "execution_count": null,
   "metadata": {
    "collapsed": true
   },
   "outputs": [],
   "source": []
  }
 ],
 "metadata": {
  "kernelspec": {
   "display_name": "Python 2",
   "language": "python",
   "name": "python2"
  },
  "language_info": {
   "codemirror_mode": {
    "name": "ipython",
    "version": 2
   },
   "file_extension": ".py",
   "mimetype": "text/x-python",
   "name": "python",
   "nbconvert_exporter": "python",
   "pygments_lexer": "ipython2",
   "version": "2.7.10"
  }
 },
 "nbformat": 4,
 "nbformat_minor": 0
}
