{
 "cells": [
  {
   "cell_type": "code",
   "execution_count": 1,
   "metadata": {
    "collapsed": true
   },
   "outputs": [],
   "source": [
    "import numpy as np\n",
    "import mpcpy"
   ]
  },
  {
   "cell_type": "code",
   "execution_count": 2,
   "metadata": {
    "collapsed": false
   },
   "outputs": [
    {
     "name": "stdout",
     "output_type": "stream",
     "text": [
      "{'p_el': 0.20647047612756303, 'Q_flow_hp_max': 5000.0, 'Q_flow_sol': 564.7047612756302, 'T_em_max': 303.15, 'time': 1800.0, 'T_amb': 278.4088190451025, 'T_in_min': 293.15}\n",
      "{'p_el': 0.20000000000000004, 'Q_flow_hp_max': 5000.0, 'Q_flow_sol': 500.00000000000034, 'T_em_max': 303.15, 'time': 88200.0, 'T_amb': 278.15, 'T_in_min': 293.15}\n"
     ]
    }
   ],
   "source": [
    "time = np.arange(0.,24.01*3600.,3600.)\n",
    "bcs = {'time': time,\n",
    "       'T_amb': 5 + 2*np.sin(2*np.pi*time/24./3600.)+273.15,\n",
    "       'Q_flow_sol': 500 + 500*np.sin(2*np.pi*time/24./3600.),\n",
    "       'p_el': 0.2 + 0.05*np.sin(2*np.pi*time/24./3600.),\n",
    "       'Q_flow_hp_max': 5000*np.ones_like(time),\n",
    "       'T_in_min': 20*np.ones_like(time)+273.15,\n",
    "       'T_em_max': 30*np.ones_like(time)+273.15}\n",
    "boundaryconditions = mpcpy.Boundaryconditions(bcs,periodic=False)\n",
    "print( boundaryconditions(1800) )\n",
    "print( boundaryconditions(24.5*3600) )"
   ]
  },
  {
   "cell_type": "code",
   "execution_count": 3,
   "metadata": {
    "collapsed": false
   },
   "outputs": [],
   "source": [
    "import dympy\n",
    "\n",
    "dymola = dympy.Dymola()\n",
    "dymola.clear()\n",
    "dymola.openModel('example.mo')\n",
    "dymola.compile('example')"
   ]
  },
  {
   "cell_type": "code",
   "execution_count": 4,
   "metadata": {
    "collapsed": false
   },
   "outputs": [
    {
     "name": "stdout",
     "output_type": "stream",
     "text": [
      "[    0.  3600.  7200.]\n",
      "[ 294.15008545  293.51867676  293.57620239]\n"
     ]
    }
   ],
   "source": [
    "emulator = mpcpy.Emulator(dymola,['T_amb','Q_flow_sol','Q_flow_hp'])\n",
    "inp = {'time': [0., 3600., 7200.], 'T_amb': [273.15, 274.15, 275.15], 'Q_flow_sol': [500., 400., 300.], 'Q_flow_hp': [4000., 4000., 4000.]}\n",
    "emulator_parameters = {'C_em.C': 10e6, 'C_in.C': 5e6, 'UA_in_amb.G': 200, 'UA_em_in.G': 1600}\n",
    "emulator.set_parameters(emulator_parameters)\n",
    "\n",
    "emulator_initialconditions = {'C_em.T': 22+273.15, 'C_in.T': 21+273.15}\n",
    "emulator.set_initial_conditions(emulator_initialconditions)\n",
    "\n",
    "emulator.initialize()\n",
    "emulator(inp)\n",
    "\n",
    "print( emulator.res['time'] )\n",
    "print( emulator.res['C_in.T'] )"
   ]
  },
  {
   "cell_type": "code",
   "execution_count": 5,
   "metadata": {
    "collapsed": false
   },
   "outputs": [
    {
     "name": "stdout",
     "output_type": "stream",
     "text": [
      "{'T_in': 293.57620239257812, 'T_em': 295.7989501953125}\n"
     ]
    }
   ],
   "source": [
    "class Stateestimation_perfect(mpcpy.Stateestimation):\n",
    "    # redefine the stateestimation method\n",
    "    def stateestimation(self,time):\n",
    "        state = {}\n",
    "        state['T_in'] = self.emulator.res['C_in.T'][-1]\n",
    "        state['T_em'] = self.emulator.res['C_em.T'][-1]\n",
    "        return state\n",
    "\n",
    "stateestimation = Stateestimation_perfect(emulator)\n",
    "print( stateestimation(0) )"
   ]
  },
  {
   "cell_type": "code",
   "execution_count": 6,
   "metadata": {
    "collapsed": false
   },
   "outputs": [
    {
     "name": "stdout",
     "output_type": "stream",
     "text": [
      "{'p_el': array([ 0.2       ,  0.20647048,  0.21294095]), 'Q_flow_hp_max': array([ 5000.,  5000.,  5000.]), 'Q_flow_sol': array([ 500.        ,  564.70476128,  629.40952255]), 'T_em_max': array([ 303.15,  303.15,  303.15]), 'time': array([    0.,  1800.,  3600.]), 'T_amb': array([ 278.15      ,  278.40881905,  278.66763809]), 'T_in_min': array([ 293.15,  293.15,  293.15])}\n"
     ]
    }
   ],
   "source": [
    "prediction = mpcpy.Prediction(boundaryconditions)\n",
    "print( prediction([0.,1800.,3600.]) )"
   ]
  },
  {
   "cell_type": "code",
   "execution_count": 7,
   "metadata": {
    "collapsed": false
   },
   "outputs": [
    {
     "name": "stdout",
     "output_type": "stream",
     "text": [
      "0\n",
      "{'Q_flow_hp': array([  937.33617849,     0.        ,  1694.25986254,  1417.19246022,\n",
      "        1564.48272643,  1577.42585992,  1653.24089642,  1786.7611665 ,\n",
      "        1968.8874844 ,  2187.20824254,  2426.84524203,  2671.46761738,\n",
      "        2904.40475797,  3109.78238262,  3273.6043456 ,  3384.70645088,\n",
      "        3435.51727357,  3422.57414008,  3346.75910358,  3213.2388335 ,\n",
      "        3031.1125156 ,  2812.79175746,  2573.15475797,     0.        ,\n",
      "           0.        ]), 'time': array([     0.,   3600.,   7200.,  10800.,  14400.,  18000.,  21600.,\n",
      "        25200.,  28800.,  32400.,  36000.,  39600.,  43200.,  46800.,\n",
      "        50400.,  54000.,  57600.,  61200.,  64800.,  68400.,  72000.,\n",
      "        75600.,  79200.,  82800.,  86400.])}\n"
     ]
    }
   ],
   "source": [
    "import cplex\n",
    "class Linearprogram(mpcpy.Control):\n",
    "    def formulation(self):\n",
    "        # define temporary times, state estimations and prediction to use while defining the problem\n",
    "        time = self.time(0)\n",
    "        dt = time[1]-time[0]\n",
    "        N = len(time)\n",
    "        sta = self.stateestimation(time[0])\n",
    "        pre = self.prediction(time)\n",
    "        par = self.parameters\n",
    "\n",
    "        ocp = cplex.Cplex()\n",
    "\n",
    "        # shorthand for 1\n",
    "        ones = np.ones(N)\n",
    "\n",
    "        # add variables, don't wory about bounds yet as they will be set in the solution function\n",
    "        ocp.variables.add(obj = 0*ones, lb = 0*ones, ub = 1e6*ones, names = ['Q_flow_hp[%s]'%(i) for i in range(N)])\n",
    "        ocp.variables.add(obj = 0*ones, lb = 0*ones, ub = 1e6*ones, names = ['T_in[%s]'%(i) for i in range(N)])\n",
    "        ocp.variables.add(obj = 0*ones, lb = 0*ones, ub = 1e6*ones, names = ['T_em[%s]'%(i) for i in range(N)])\n",
    "\n",
    "        # add state constraints\n",
    "        for i in range(N-1):\n",
    "            # T_in\n",
    "            # C_in/dt*(T_in[i+1]-T_in[i]) = UA_in_amb*(T_amb[i]-T_in[i]) + UA_em_in*(T_em[i]-T_in[i]) + Q_flow_sol[i]\n",
    "            ocp.linear_constraints.add(\n",
    "                    lin_expr = [[['T_in[%s]'%(i)                                   , 'T_in[%s]'%(i+1) , 'T_em[%s]'%(i)    ],\n",
    "                                 [-par['C_in']/dt+par['UA_in_amb']+par['UA_em_in'] , par['C_in']/dt   , -par['UA_em_in']  ]]],\n",
    "                    senses = 'E',\n",
    "                    rhs = [par['UA_in_amb']*pre['T_amb'][i] + pre['Q_flow_sol'][i] ],\n",
    "                    names = ['state_T_in[%s]'%(i)])\n",
    "\n",
    "\n",
    "            # T_em\n",
    "            # C_em/dt*(T_em[i+1]-T_em[i]) = UA_em_in*(T_in[i]-T_em[i]) + Q_flow_hp[i]\n",
    "            ocp.linear_constraints.add(\n",
    "                    lin_expr = [[['T_em[%s]'%(i)                  , 'T_em[%s]'%(i+1) , 'T_in[%s]'%(i)    , 'Q_flow_hp[%s]'%(i) ],\n",
    "                                 [-par['C_em']/dt+par['UA_em_in'] ,  par['C_em']/dt  , -par['UA_em_in']  , -1                  ]]],\n",
    "                    senses = 'E',\n",
    "                    rhs = [0],\n",
    "                    names = ['state_T_em[%s]'%(i)])\n",
    "\n",
    "        # add initial values\n",
    "        ocp.linear_constraints.add(lin_expr = [[['T_in[0]',   ],\n",
    "                                                 [1]]],\n",
    "                                   senses = 'E',\n",
    "                                   rhs = [sta['T_in'].item()],\n",
    "                                   names = ['T_in_ini'])\n",
    "\n",
    "        ocp.linear_constraints.add(lin_expr = [[['T_em[0]',   ],\n",
    "                                                 [1]]],\n",
    "                                   senses = 'E',\n",
    "                                   rhs = [sta['T_em'].item()],\n",
    "                                   names = ['T_em_ini'])\n",
    "            \n",
    "            \n",
    "        # disable output printing\n",
    "        ocp.set_log_stream(None)\n",
    "        #ocp.set_error_stream(None)\n",
    "        ocp.set_warning_stream(None)\n",
    "        ocp.set_results_stream(None)\n",
    "\n",
    "        self.ocp = ocp\n",
    "        \n",
    "        def solution(sta,pre):\n",
    "            # define the cost function\n",
    "            ocp.objective.set_linear( [('Q_flow_hp[%s]'%(i),1/par['COP']*pre['p_el'][i]/1000*dt/3600) for i in range(N)] )\n",
    "\n",
    "            # hard bounds\n",
    "            ocp.variables.set_lower_bounds( [('T_in[%s]'%(i)     ,pre['T_in_min'][i]) for i in range(N)])\n",
    "            ocp.variables.set_upper_bounds( [('Q_flow_hp[%s]'%(i),pre['Q_flow_hp_max'][i]) for i in range(N)]\n",
    "                                           +[('T_em[%s]'%(i)     ,pre['T_em_max'][i]) for i in range(N)])\n",
    "            \n",
    "            \n",
    "            # state constraints\n",
    "            ocp.linear_constraints.set_rhs( [('state_T_in[%s]'%(i),par['UA_in_amb']*pre['T_amb'][i] + pre['Q_flow_sol'][i]) for i in range(N-1)]\n",
    "                                           +[('state_T_em[%s]'%(i),0) for i in range(N-1)] )\n",
    "\n",
    "            # initial conditions\n",
    "            ocp.linear_constraints.set_rhs( [('T_in_ini',sta['T_in'].item())]\n",
    "                                           +[('T_em_ini',sta['T_em'].item())] )\n",
    "            \n",
    "            # solve the optimal control problem\n",
    "            ocp.solve()\n",
    "\n",
    "            # add a properties with the ocp problem with the solution for inspection\n",
    "            self.ocp = ocp\n",
    "\n",
    "            # return the contol inputs\n",
    "            sol = {}\n",
    "            sol['time'] = pre['time']\n",
    "            sol['Q_flow_hp'] = np.array( ocp.solution.get_values(['Q_flow_hp[%s]'%(i) for i in range(N)]) )\n",
    "\n",
    "            return sol\n",
    "\n",
    "        return solution\n",
    "\n",
    "\n",
    "control_parameters = {'C_in': emulator_parameters['C_in.C'],\n",
    "                      'C_em': emulator_parameters['C_em.C'],\n",
    "                      'UA_in_amb': emulator_parameters['UA_in_amb.G'],\n",
    "                      'UA_em_in': emulator_parameters['UA_em_in.G'],\n",
    "                      'COP': 4}\n",
    "control = Linearprogram(stateestimation,prediction,parameters=control_parameters,horizon=24*3600.,timestep=3600.,receding=3600.)\n",
    "\n",
    "print( control.ocp.solution.get_status() )\n",
    "print( control(0) )"
   ]
  },
  {
   "cell_type": "code",
   "execution_count": 8,
   "metadata": {
    "collapsed": false
   },
   "outputs": [
    {
     "name": "stdout",
     "output_type": "stream",
     "text": [
      "Run MPC                                                                        |\n",
      "--------------------------------------------------------------------------------  done\n",
      "[  128.78747559   128.78747559   128.78747559   128.78747559   128.78747559\n",
      "   128.78747559  1494.36812495  1142.31323242  1142.31323242  1142.31323242\n",
      "  1142.31323242  1142.31323242  1142.31323242  1784.68145166  1480.41760254\n",
      "  1480.41760254  1480.41760254  1480.41760254  1480.41760254  1480.41760254\n",
      "  1609.711637    1513.21032715  1513.21032715  1513.21032715  1513.21032715\n",
      "  1513.21032715  1513.21032715  1531.07468309  1501.22619629  1501.22619629\n",
      "  1501.22619629  1501.22619629  1501.22619629  1501.22619629  1534.600978\n",
      "  1525.85083008  1525.85083008  1525.85083008  1525.85083008  1525.85083008\n",
      "  1525.85083008  1610.47793174  1608.80688477  1608.80688477  1608.80688477\n",
      "  1608.80688477  1608.80688477  1608.80688477  1749.35766995  1750.71862793\n",
      "  1750.71862793  1750.71862793  1750.71862793  1750.71862793  1750.71862793\n",
      "  1940.25727337  1943.46435547  1943.46435547  1943.46435547  1943.46435547\n",
      "  1943.46435547  1943.46435547  2169.6322721   2174.16625977  2174.16625977\n",
      "  2174.16625977  2174.16625977  2174.16625977  2174.16625977  2421.52137531\n",
      "  2427.06884766  2427.06884766  2427.06884766  2427.06884766  2427.06884766\n",
      "  2427.06884766  2678.83887842  2684.9921875   2684.9921875   2684.9921875\n",
      "  2684.9921875   2684.9921875   2684.9921875   2923.97397751  2930.31860352\n",
      "  2930.31860352  2930.31860352  2930.31860352  2930.31860352  2930.31860352\n",
      "  3140.22566845  3146.34643555  3146.34643555  3146.34643555  3146.34643555\n",
      "  3146.34643555  3146.34643555  3312.7934998   3318.30688477  3318.30688477\n",
      "  3318.30688477  3318.30688477  3318.30688477  3318.30688477  3430.04342121\n",
      "  3434.48510742  3434.48510742  3434.48510742  3434.48510742  3434.48510742\n",
      "  3434.48510742  3483.87576613  3486.98901367  3486.98901367  3486.98901367\n",
      "  3486.98901367  3486.98901367  3486.98901367  3470.63588451  3472.2487793\n",
      "  3472.2487793   3472.2487793   3472.2487793   3472.2487793   3472.2487793\n",
      "  3391.26505072  3391.25097656  3391.25097656  3391.25097656  3391.25097656\n",
      "  3391.25097656  3391.25097656  3251.21454647  3249.50610352  3249.50610352\n",
      "  3249.50610352  3249.50610352  3249.50610352  3249.50610352  3059.91179008\n",
      "  3056.68359375  3056.68359375  3056.68359375  3056.68359375  3056.68359375\n",
      "  3056.68359375  2830.41997174  2825.91552734  2825.91552734  2825.91552734\n",
      "  2825.91552734  2825.91552734  2825.91552734  2578.48130565  2572.9465332\n",
      "  2572.9465332   2572.9465332   2572.9465332   2572.9465332   2572.9465332\n",
      "  2321.11399627  2315.03417969  2315.03417969  2315.03417969  2315.03417969\n",
      "  2315.03417969  2315.03417969  2480.416887    2480.43066406]\n"
     ]
    }
   ],
   "source": [
    "mpc = mpcpy.MPC(emulator,control,boundaryconditions,emulationtime=1*24*3600.,resulttimestep=600)\n",
    "res = mpc()\n",
    "print(res['Q_flow_hp'])"
   ]
  },
  {
   "cell_type": "code",
   "execution_count": 9,
   "metadata": {
    "collapsed": false
   },
   "outputs": [
    {
     "data": {
      "text/plain": [
       "<matplotlib.legend.Legend at 0x6013590>"
      ]
     },
     "execution_count": 9,
     "metadata": {},
     "output_type": "execute_result"
    },
    {
     "data": {
      "image/png": "[encoded data removed]",
      "text/plain": [
       "<matplotlib.figure.Figure at 0x60002f0>"
      ]
     },
     "metadata": {},
     "output_type": "display_data"
    }
   ],
   "source": [
    "%matplotlib inline\n",
    "import matplotlib.pyplot as plt\n",
    "\n",
    "plt.figure(figsize=(10,8))\n",
    "ax = plt.subplot(211)\n",
    "ax.plot(res['time']/3600,res['Q_flow_hp'],'k',label='hp')\n",
    "ax.plot(res['time']/3600,res['Q_flow_sol'],'g',label='sol')\n",
    "ax.set_ylabel('$\\dot{Q}$ (W)')\n",
    "plt.legend()\n",
    "\n",
    "ax = plt.subplot(212)\n",
    "ax.plot(res['time']/3600,res['C_in.T']-273.17,'k',label='in')\n",
    "ax.plot(res['time']/3600,res['C_em.T']-273.17,'b',label='em')\n",
    "ax.plot(res['time']/3600,res['T_amb']-273.17,'g',label='amb')\n",
    "ax.set_ylabel('$T$ ($^\\circ$C)')\n",
    "ax.set_xlabel('time (h)')\n",
    "plt.legend()"
   ]
  },
  {
   "cell_type": "code",
   "execution_count": null,
   "metadata": {
    "collapsed": true
   },
   "outputs": [],
   "source": []
  }
 ],
 "metadata": {
  "kernelspec": {
   "display_name": "Python 2",
   "language": "python",
   "name": "python2"
  },
  "language_info": {
   "codemirror_mode": {
    "name": "ipython",
    "version": 2
   },
   "file_extension": ".py",
   "mimetype": "text/x-python",
   "name": "python",
   "nbconvert_exporter": "python",
   "pygments_lexer": "ipython2",
   "version": "2.7.10"
  }
 },
 "nbformat": 4,
 "nbformat_minor": 0
}
